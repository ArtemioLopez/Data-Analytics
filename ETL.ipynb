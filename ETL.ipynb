{
 "cells": [
  {
   "cell_type": "code",
   "execution_count": 3,
   "metadata": {},
   "outputs": [],
   "source": [
    "import pandas as pd\n",
    "import numpy as np"
   ]
  },
  {
   "cell_type": "markdown",
   "metadata": {},
   "source": [
    "# Acceso a Internet por Banda Ancha y Banda Fija, Total"
   ]
  },
  {
   "cell_type": "code",
   "execution_count": 723,
   "metadata": {},
   "outputs": [],
   "source": [
    "df_internet_baf_total = pd.read_csv('Datasets\\Internet_BAF_total.csv')"
   ]
  },
  {
   "cell_type": "code",
   "execution_count": 724,
   "metadata": {},
   "outputs": [
    {
     "data": {
      "text/html": [
       "<div>\n",
       "<style scoped>\n",
       "    .dataframe tbody tr th:only-of-type {\n",
       "        vertical-align: middle;\n",
       "    }\n",
       "\n",
       "    .dataframe tbody tr th {\n",
       "        vertical-align: top;\n",
       "    }\n",
       "\n",
       "    .dataframe thead th {\n",
       "        text-align: right;\n",
       "    }\n",
       "</style>\n",
       "<table border=\"1\" class=\"dataframe\">\n",
       "  <thead>\n",
       "    <tr style=\"text-align: right;\">\n",
       "      <th></th>\n",
       "      <th>Año</th>\n",
       "      <th>Trimestre</th>\n",
       "      <th>Banda ancha fija</th>\n",
       "      <th>Dial up</th>\n",
       "      <th>Total</th>\n",
       "      <th>Periodo</th>\n",
       "    </tr>\n",
       "  </thead>\n",
       "  <tbody>\n",
       "    <tr>\n",
       "      <th>0</th>\n",
       "      <td>2022</td>\n",
       "      <td>3</td>\n",
       "      <td>11.078.691</td>\n",
       "      <td>12.437</td>\n",
       "      <td>11.091.128</td>\n",
       "      <td>Jul-Sept 2022</td>\n",
       "    </tr>\n",
       "    <tr>\n",
       "      <th>1</th>\n",
       "      <td>2022</td>\n",
       "      <td>2</td>\n",
       "      <td>10.946.248</td>\n",
       "      <td>12.436</td>\n",
       "      <td>10.958.684</td>\n",
       "      <td>Abr-Jun 2022</td>\n",
       "    </tr>\n",
       "    <tr>\n",
       "      <th>2</th>\n",
       "      <td>2022</td>\n",
       "      <td>1</td>\n",
       "      <td>10.611.390</td>\n",
       "      <td>12.619</td>\n",
       "      <td>10.624.009</td>\n",
       "      <td>Ene-Mar 2022</td>\n",
       "    </tr>\n",
       "  </tbody>\n",
       "</table>\n",
       "</div>"
      ],
      "text/plain": [
       "    Año  Trimestre Banda ancha fija  Dial up       Total        Periodo\n",
       "0  2022          3       11.078.691   12.437  11.091.128  Jul-Sept 2022\n",
       "1  2022          2       10.946.248   12.436  10.958.684   Abr-Jun 2022\n",
       "2  2022          1       10.611.390   12.619  10.624.009   Ene-Mar 2022"
      ]
     },
     "execution_count": 724,
     "metadata": {},
     "output_type": "execute_result"
    }
   ],
   "source": [
    "df_internet_baf_total.head(3)"
   ]
  },
  {
   "cell_type": "code",
   "execution_count": 725,
   "metadata": {},
   "outputs": [
    {
     "name": "stdout",
     "output_type": "stream",
     "text": [
      "<class 'pandas.core.frame.DataFrame'>\n",
      "RangeIndex: 35 entries, 0 to 34\n",
      "Data columns (total 6 columns):\n",
      " #   Column            Non-Null Count  Dtype  \n",
      "---  ------            --------------  -----  \n",
      " 0   Año               35 non-null     int64  \n",
      " 1   Trimestre         35 non-null     int64  \n",
      " 2   Banda ancha fija  35 non-null     object \n",
      " 3   Dial up           35 non-null     float64\n",
      " 4   Total             35 non-null     object \n",
      " 5   Periodo           35 non-null     object \n",
      "dtypes: float64(1), int64(2), object(3)\n",
      "memory usage: 1.8+ KB\n"
     ]
    }
   ],
   "source": [
    "df_internet_baf_total.info()"
   ]
  },
  {
   "cell_type": "markdown",
   "metadata": {},
   "source": [
    "### Cambiamos el formato de la columna \"Banda ancha fija\" de object a int"
   ]
  },
  {
   "cell_type": "code",
   "execution_count": 726,
   "metadata": {},
   "outputs": [],
   "source": [
    "df_internet_baf_total['Banda ancha fija'] = df_internet_baf_total['Banda ancha fija'].str.replace(\".\", \"\")\n",
    "df_internet_baf_total['Banda ancha fija'] = df_internet_baf_total['Banda ancha fija'].astype(int)"
   ]
  },
  {
   "cell_type": "code",
   "execution_count": 727,
   "metadata": {},
   "outputs": [
    {
     "name": "stdout",
     "output_type": "stream",
     "text": [
      "<class 'pandas.core.series.Series'>\n",
      "RangeIndex: 35 entries, 0 to 34\n",
      "Series name: Banda ancha fija\n",
      "Non-Null Count  Dtype\n",
      "--------------  -----\n",
      "35 non-null     int32\n",
      "dtypes: int32(1)\n",
      "memory usage: 268.0 bytes\n"
     ]
    }
   ],
   "source": [
    "df_internet_baf_total['Banda ancha fija'].info()"
   ]
  },
  {
   "cell_type": "markdown",
   "metadata": {},
   "source": [
    "### Cambiamos el formato de la columna \"Dial up\" de float a int"
   ]
  },
  {
   "cell_type": "code",
   "execution_count": 728,
   "metadata": {},
   "outputs": [],
   "source": [
    "df_internet_baf_total['Dial up'] = df_internet_baf_total['Dial up'].astype(str)\n",
    "df_internet_baf_total['Dial up'] = df_internet_baf_total['Dial up'].str.replace(\".\", \"\")\n",
    "df_internet_baf_total['Dial up'] = df_internet_baf_total['Dial up'].astype(int)"
   ]
  },
  {
   "cell_type": "code",
   "execution_count": 729,
   "metadata": {},
   "outputs": [
    {
     "name": "stdout",
     "output_type": "stream",
     "text": [
      "<class 'pandas.core.series.Series'>\n",
      "RangeIndex: 35 entries, 0 to 34\n",
      "Series name: Dial up\n",
      "Non-Null Count  Dtype\n",
      "--------------  -----\n",
      "35 non-null     int32\n",
      "dtypes: int32(1)\n",
      "memory usage: 268.0 bytes\n"
     ]
    }
   ],
   "source": [
    "df_internet_baf_total['Dial up'].info()"
   ]
  },
  {
   "cell_type": "markdown",
   "metadata": {},
   "source": [
    "### Cambiamos el formato de la columna \"Total\" de object a int"
   ]
  },
  {
   "cell_type": "code",
   "execution_count": 730,
   "metadata": {},
   "outputs": [],
   "source": [
    "df_internet_baf_total['Total'] = df_internet_baf_total['Total'].str.replace(\".\", \"\")\n",
    "df_internet_baf_total['Total'] = df_internet_baf_total['Total'].astype(int)"
   ]
  },
  {
   "cell_type": "code",
   "execution_count": 731,
   "metadata": {},
   "outputs": [
    {
     "name": "stdout",
     "output_type": "stream",
     "text": [
      "<class 'pandas.core.frame.DataFrame'>\n",
      "RangeIndex: 35 entries, 0 to 34\n",
      "Data columns (total 6 columns):\n",
      " #   Column            Non-Null Count  Dtype \n",
      "---  ------            --------------  ----- \n",
      " 0   Año               35 non-null     int64 \n",
      " 1   Trimestre         35 non-null     int64 \n",
      " 2   Banda ancha fija  35 non-null     int32 \n",
      " 3   Dial up           35 non-null     int32 \n",
      " 4   Total             35 non-null     int32 \n",
      " 5   Periodo           35 non-null     object\n",
      "dtypes: int32(3), int64(2), object(1)\n",
      "memory usage: 1.4+ KB\n"
     ]
    }
   ],
   "source": [
    "df_internet_baf_total.info()"
   ]
  },
  {
   "cell_type": "code",
   "execution_count": 732,
   "metadata": {},
   "outputs": [
    {
     "data": {
      "text/html": [
       "<div>\n",
       "<style scoped>\n",
       "    .dataframe tbody tr th:only-of-type {\n",
       "        vertical-align: middle;\n",
       "    }\n",
       "\n",
       "    .dataframe tbody tr th {\n",
       "        vertical-align: top;\n",
       "    }\n",
       "\n",
       "    .dataframe thead th {\n",
       "        text-align: right;\n",
       "    }\n",
       "</style>\n",
       "<table border=\"1\" class=\"dataframe\">\n",
       "  <thead>\n",
       "    <tr style=\"text-align: right;\">\n",
       "      <th></th>\n",
       "      <th>Año</th>\n",
       "      <th>Trimestre</th>\n",
       "      <th>Banda ancha fija</th>\n",
       "      <th>Dial up</th>\n",
       "      <th>Total</th>\n",
       "      <th>Periodo</th>\n",
       "    </tr>\n",
       "  </thead>\n",
       "  <tbody>\n",
       "    <tr>\n",
       "      <th>0</th>\n",
       "      <td>2022</td>\n",
       "      <td>3</td>\n",
       "      <td>11078691</td>\n",
       "      <td>12437</td>\n",
       "      <td>11091128</td>\n",
       "      <td>Jul-Sept 2022</td>\n",
       "    </tr>\n",
       "    <tr>\n",
       "      <th>1</th>\n",
       "      <td>2022</td>\n",
       "      <td>2</td>\n",
       "      <td>10946248</td>\n",
       "      <td>12436</td>\n",
       "      <td>10958684</td>\n",
       "      <td>Abr-Jun 2022</td>\n",
       "    </tr>\n",
       "    <tr>\n",
       "      <th>2</th>\n",
       "      <td>2022</td>\n",
       "      <td>1</td>\n",
       "      <td>10611390</td>\n",
       "      <td>12619</td>\n",
       "      <td>10624009</td>\n",
       "      <td>Ene-Mar 2022</td>\n",
       "    </tr>\n",
       "  </tbody>\n",
       "</table>\n",
       "</div>"
      ],
      "text/plain": [
       "    Año  Trimestre  Banda ancha fija  Dial up     Total        Periodo\n",
       "0  2022          3          11078691    12437  11091128  Jul-Sept 2022\n",
       "1  2022          2          10946248    12436  10958684   Abr-Jun 2022\n",
       "2  2022          1          10611390    12619  10624009   Ene-Mar 2022"
      ]
     },
     "execution_count": 732,
     "metadata": {},
     "output_type": "execute_result"
    }
   ],
   "source": [
    "df_internet_baf_total.head(3)"
   ]
  },
  {
   "cell_type": "markdown",
   "metadata": {},
   "source": [
    "### Guardamos los cambios en un archivo csv"
   ]
  },
  {
   "cell_type": "code",
   "execution_count": 733,
   "metadata": {},
   "outputs": [],
   "source": [
    "df_internet_baf_total.to_csv('Datasets_normalizados\\Internet_BAF_total.csv', index=False)"
   ]
  },
  {
   "cell_type": "markdown",
   "metadata": {},
   "source": [
    "# Historico velocidad Internet"
   ]
  },
  {
   "cell_type": "code",
   "execution_count": 734,
   "metadata": {},
   "outputs": [],
   "source": [
    "df_historico_velocidad = pd.read_csv('Datasets\\historico_velocidad_internet.csv', decimal=',')"
   ]
  },
  {
   "cell_type": "code",
   "execution_count": 735,
   "metadata": {},
   "outputs": [
    {
     "data": {
      "text/html": [
       "<div>\n",
       "<style scoped>\n",
       "    .dataframe tbody tr th:only-of-type {\n",
       "        vertical-align: middle;\n",
       "    }\n",
       "\n",
       "    .dataframe tbody tr th {\n",
       "        vertical-align: top;\n",
       "    }\n",
       "\n",
       "    .dataframe thead th {\n",
       "        text-align: right;\n",
       "    }\n",
       "</style>\n",
       "<table border=\"1\" class=\"dataframe\">\n",
       "  <thead>\n",
       "    <tr style=\"text-align: right;\">\n",
       "      <th></th>\n",
       "      <th>Año</th>\n",
       "      <th>Trimestre</th>\n",
       "      <th>Mbps (Media de bajada)</th>\n",
       "      <th>Trimestre.1</th>\n",
       "    </tr>\n",
       "  </thead>\n",
       "  <tbody>\n",
       "    <tr>\n",
       "      <th>0</th>\n",
       "      <td>2022</td>\n",
       "      <td>3</td>\n",
       "      <td>62.46</td>\n",
       "      <td>Jul-Sept 2022</td>\n",
       "    </tr>\n",
       "    <tr>\n",
       "      <th>1</th>\n",
       "      <td>2022</td>\n",
       "      <td>2</td>\n",
       "      <td>58.44</td>\n",
       "      <td>Abr-Jun 2022</td>\n",
       "    </tr>\n",
       "    <tr>\n",
       "      <th>2</th>\n",
       "      <td>2022</td>\n",
       "      <td>1</td>\n",
       "      <td>55.11</td>\n",
       "      <td>Ene-Mar 2022</td>\n",
       "    </tr>\n",
       "  </tbody>\n",
       "</table>\n",
       "</div>"
      ],
      "text/plain": [
       "    Año  Trimestre  Mbps (Media de bajada)    Trimestre.1\n",
       "0  2022          3                   62.46  Jul-Sept 2022\n",
       "1  2022          2                   58.44   Abr-Jun 2022\n",
       "2  2022          1                   55.11   Ene-Mar 2022"
      ]
     },
     "execution_count": 735,
     "metadata": {},
     "output_type": "execute_result"
    }
   ],
   "source": [
    "df_historico_velocidad.head(3)"
   ]
  },
  {
   "cell_type": "code",
   "execution_count": 736,
   "metadata": {},
   "outputs": [
    {
     "name": "stdout",
     "output_type": "stream",
     "text": [
      "<class 'pandas.core.frame.DataFrame'>\n",
      "RangeIndex: 35 entries, 0 to 34\n",
      "Data columns (total 4 columns):\n",
      " #   Column                  Non-Null Count  Dtype  \n",
      "---  ------                  --------------  -----  \n",
      " 0   Año                     35 non-null     int64  \n",
      " 1   Trimestre               35 non-null     int64  \n",
      " 2   Mbps (Media de bajada)  35 non-null     float64\n",
      " 3   Trimestre.1             35 non-null     object \n",
      "dtypes: float64(1), int64(2), object(1)\n",
      "memory usage: 1.2+ KB\n"
     ]
    }
   ],
   "source": [
    "df_historico_velocidad.info()"
   ]
  },
  {
   "cell_type": "markdown",
   "metadata": {},
   "source": [
    "### Cambiamos el nombre de la columna \"Trimestre.1\" por \"Periodo\""
   ]
  },
  {
   "cell_type": "code",
   "execution_count": 737,
   "metadata": {},
   "outputs": [],
   "source": [
    "df_historico_velocidad['Periodo'] = df_historico_velocidad['Trimestre.1']"
   ]
  },
  {
   "cell_type": "code",
   "execution_count": 738,
   "metadata": {},
   "outputs": [],
   "source": [
    "df_historico_velocidad.drop(['Trimestre.1'], axis=1, inplace=True)"
   ]
  },
  {
   "cell_type": "code",
   "execution_count": 739,
   "metadata": {},
   "outputs": [
    {
     "data": {
      "text/html": [
       "<div>\n",
       "<style scoped>\n",
       "    .dataframe tbody tr th:only-of-type {\n",
       "        vertical-align: middle;\n",
       "    }\n",
       "\n",
       "    .dataframe tbody tr th {\n",
       "        vertical-align: top;\n",
       "    }\n",
       "\n",
       "    .dataframe thead th {\n",
       "        text-align: right;\n",
       "    }\n",
       "</style>\n",
       "<table border=\"1\" class=\"dataframe\">\n",
       "  <thead>\n",
       "    <tr style=\"text-align: right;\">\n",
       "      <th></th>\n",
       "      <th>Año</th>\n",
       "      <th>Trimestre</th>\n",
       "      <th>Mbps (Media de bajada)</th>\n",
       "      <th>Periodo</th>\n",
       "    </tr>\n",
       "  </thead>\n",
       "  <tbody>\n",
       "    <tr>\n",
       "      <th>0</th>\n",
       "      <td>2022</td>\n",
       "      <td>3</td>\n",
       "      <td>62.46</td>\n",
       "      <td>Jul-Sept 2022</td>\n",
       "    </tr>\n",
       "    <tr>\n",
       "      <th>1</th>\n",
       "      <td>2022</td>\n",
       "      <td>2</td>\n",
       "      <td>58.44</td>\n",
       "      <td>Abr-Jun 2022</td>\n",
       "    </tr>\n",
       "    <tr>\n",
       "      <th>2</th>\n",
       "      <td>2022</td>\n",
       "      <td>1</td>\n",
       "      <td>55.11</td>\n",
       "      <td>Ene-Mar 2022</td>\n",
       "    </tr>\n",
       "  </tbody>\n",
       "</table>\n",
       "</div>"
      ],
      "text/plain": [
       "    Año  Trimestre  Mbps (Media de bajada)        Periodo\n",
       "0  2022          3                   62.46  Jul-Sept 2022\n",
       "1  2022          2                   58.44   Abr-Jun 2022\n",
       "2  2022          1                   55.11   Ene-Mar 2022"
      ]
     },
     "execution_count": 739,
     "metadata": {},
     "output_type": "execute_result"
    }
   ],
   "source": [
    "df_historico_velocidad.head(3)"
   ]
  },
  {
   "cell_type": "markdown",
   "metadata": {},
   "source": [
    "### Guardamos los cambios en un archivo csv"
   ]
  },
  {
   "cell_type": "code",
   "execution_count": 740,
   "metadata": {},
   "outputs": [],
   "source": [
    "df_historico_velocidad.to_csv('Datasets_normalizados/historico_velocidad_internet.csv', index=False)"
   ]
  },
  {
   "cell_type": "markdown",
   "metadata": {},
   "source": [
    "# Historico acceso a banda ancha y angosta por provincia"
   ]
  },
  {
   "cell_type": "code",
   "execution_count": 741,
   "metadata": {},
   "outputs": [],
   "source": [
    "df_acc_banda_ancha_angosta_prov = pd.read_csv(\"Datasets\\Internet_Accesos-por-velocidad.csv\")"
   ]
  },
  {
   "cell_type": "code",
   "execution_count": 742,
   "metadata": {},
   "outputs": [
    {
     "data": {
      "text/html": [
       "<div>\n",
       "<style scoped>\n",
       "    .dataframe tbody tr th:only-of-type {\n",
       "        vertical-align: middle;\n",
       "    }\n",
       "\n",
       "    .dataframe tbody tr th {\n",
       "        vertical-align: top;\n",
       "    }\n",
       "\n",
       "    .dataframe thead th {\n",
       "        text-align: right;\n",
       "    }\n",
       "</style>\n",
       "<table border=\"1\" class=\"dataframe\">\n",
       "  <thead>\n",
       "    <tr style=\"text-align: right;\">\n",
       "      <th></th>\n",
       "      <th>Año</th>\n",
       "      <th>Trimestre</th>\n",
       "      <th>Provincia</th>\n",
       "      <th>HASTA 512 kbps</th>\n",
       "      <th>+ 512 Kbps - 1 Mbps</th>\n",
       "      <th>+ 1 Mbps - 6 Mbps</th>\n",
       "      <th>+ 6 Mbps - 10 Mbps</th>\n",
       "      <th>+ 10 Mbps - 20 Mbps</th>\n",
       "      <th>+ 20 Mbps - 30 Mbps</th>\n",
       "      <th>+ 30 Mbps</th>\n",
       "      <th>OTROS</th>\n",
       "      <th>Total</th>\n",
       "    </tr>\n",
       "  </thead>\n",
       "  <tbody>\n",
       "    <tr>\n",
       "      <th>0</th>\n",
       "      <td>2022</td>\n",
       "      <td>3</td>\n",
       "      <td>Buenos Aires</td>\n",
       "      <td>29.985</td>\n",
       "      <td>27.709</td>\n",
       "      <td>290.315</td>\n",
       "      <td>297.915</td>\n",
       "      <td>267.044</td>\n",
       "      <td>124.190</td>\n",
       "      <td>3.618.689</td>\n",
       "      <td>65.821</td>\n",
       "      <td>4.721.668</td>\n",
       "    </tr>\n",
       "    <tr>\n",
       "      <th>1</th>\n",
       "      <td>2022</td>\n",
       "      <td>3</td>\n",
       "      <td>Capital Federal</td>\n",
       "      <td>517.000</td>\n",
       "      <td>5.742</td>\n",
       "      <td>34.371</td>\n",
       "      <td>67.829</td>\n",
       "      <td>51.946</td>\n",
       "      <td>28.692</td>\n",
       "      <td>1.253.105</td>\n",
       "      <td>105.477</td>\n",
       "      <td>1.547.679</td>\n",
       "    </tr>\n",
       "    <tr>\n",
       "      <th>2</th>\n",
       "      <td>2022</td>\n",
       "      <td>3</td>\n",
       "      <td>Catamarca</td>\n",
       "      <td>71.000</td>\n",
       "      <td>384.000</td>\n",
       "      <td>3.107</td>\n",
       "      <td>5.389</td>\n",
       "      <td>5.099</td>\n",
       "      <td>3.737</td>\n",
       "      <td>50.298</td>\n",
       "      <td>2.208</td>\n",
       "      <td>70.293</td>\n",
       "    </tr>\n",
       "    <tr>\n",
       "      <th>3</th>\n",
       "      <td>2022</td>\n",
       "      <td>3</td>\n",
       "      <td>Chaco</td>\n",
       "      <td>461.000</td>\n",
       "      <td>987.000</td>\n",
       "      <td>16.782</td>\n",
       "      <td>18.938</td>\n",
       "      <td>8.049</td>\n",
       "      <td>15.828</td>\n",
       "      <td>79.390</td>\n",
       "      <td>3.711</td>\n",
       "      <td>144.146</td>\n",
       "    </tr>\n",
       "  </tbody>\n",
       "</table>\n",
       "</div>"
      ],
      "text/plain": [
       "    Año  Trimestre        Provincia  HASTA 512 kbps  + 512 Kbps - 1 Mbps  \\\n",
       "0  2022          3     Buenos Aires          29.985               27.709   \n",
       "1  2022          3  Capital Federal         517.000                5.742   \n",
       "2  2022          3        Catamarca          71.000              384.000   \n",
       "3  2022          3            Chaco         461.000              987.000   \n",
       "\n",
       "  + 1 Mbps - 6 Mbps  + 6 Mbps - 10 Mbps  + 10 Mbps - 20 Mbps  \\\n",
       "0           290.315             297.915              267.044   \n",
       "1            34.371              67.829               51.946   \n",
       "2             3.107               5.389                5.099   \n",
       "3            16.782              18.938                8.049   \n",
       "\n",
       "   + 20 Mbps - 30 Mbps  + 30 Mbps    OTROS      Total  \n",
       "0              124.190  3.618.689   65.821  4.721.668  \n",
       "1               28.692  1.253.105  105.477  1.547.679  \n",
       "2                3.737     50.298    2.208     70.293  \n",
       "3               15.828     79.390    3.711    144.146  "
      ]
     },
     "execution_count": 742,
     "metadata": {},
     "output_type": "execute_result"
    }
   ],
   "source": [
    "df_acc_banda_ancha_angosta_prov.head(4)"
   ]
  },
  {
   "cell_type": "code",
   "execution_count": 743,
   "metadata": {},
   "outputs": [
    {
     "name": "stdout",
     "output_type": "stream",
     "text": [
      "<class 'pandas.core.frame.DataFrame'>\n",
      "RangeIndex: 840 entries, 0 to 839\n",
      "Data columns (total 12 columns):\n",
      " #   Column               Non-Null Count  Dtype  \n",
      "---  ------               --------------  -----  \n",
      " 0   Año                  840 non-null    int64  \n",
      " 1   Trimestre            840 non-null    int64  \n",
      " 2   Provincia            840 non-null    object \n",
      " 3   HASTA 512 kbps       840 non-null    float64\n",
      " 4   + 512 Kbps - 1 Mbps  840 non-null    float64\n",
      " 5   + 1 Mbps - 6 Mbps    840 non-null    object \n",
      " 6   + 6 Mbps - 10 Mbps   840 non-null    float64\n",
      " 7   + 10 Mbps - 20 Mbps  840 non-null    float64\n",
      " 8   + 20 Mbps - 30 Mbps  840 non-null    float64\n",
      " 9   + 30 Mbps            840 non-null    object \n",
      " 10  OTROS                834 non-null    float64\n",
      " 11  Total                840 non-null    object \n",
      "dtypes: float64(6), int64(2), object(4)\n",
      "memory usage: 78.9+ KB\n"
     ]
    }
   ],
   "source": [
    "df_acc_banda_ancha_angosta_prov.info()"
   ]
  },
  {
   "cell_type": "code",
   "execution_count": 744,
   "metadata": {},
   "outputs": [
    {
     "data": {
      "text/plain": [
       "Año                    0\n",
       "Trimestre              0\n",
       "Provincia              0\n",
       "HASTA 512 kbps         0\n",
       "+ 512 Kbps - 1 Mbps    0\n",
       "+ 1 Mbps - 6 Mbps      0\n",
       "+ 6 Mbps - 10 Mbps     0\n",
       "+ 10 Mbps - 20 Mbps    0\n",
       "+ 20 Mbps - 30 Mbps    0\n",
       "+ 30 Mbps              0\n",
       "OTROS                  6\n",
       "Total                  0\n",
       "dtype: int64"
      ]
     },
     "execution_count": 744,
     "metadata": {},
     "output_type": "execute_result"
    }
   ],
   "source": [
    "df_acc_banda_ancha_angosta_prov.isnull().sum()"
   ]
  },
  {
   "cell_type": "markdown",
   "metadata": {},
   "source": [
    "### Identificamos las filas que contienen algun valor nulo"
   ]
  },
  {
   "cell_type": "code",
   "execution_count": 745,
   "metadata": {},
   "outputs": [
    {
     "data": {
      "text/html": [
       "<div>\n",
       "<style scoped>\n",
       "    .dataframe tbody tr th:only-of-type {\n",
       "        vertical-align: middle;\n",
       "    }\n",
       "\n",
       "    .dataframe tbody tr th {\n",
       "        vertical-align: top;\n",
       "    }\n",
       "\n",
       "    .dataframe thead th {\n",
       "        text-align: right;\n",
       "    }\n",
       "</style>\n",
       "<table border=\"1\" class=\"dataframe\">\n",
       "  <thead>\n",
       "    <tr style=\"text-align: right;\">\n",
       "      <th></th>\n",
       "      <th>Año</th>\n",
       "      <th>Trimestre</th>\n",
       "      <th>Provincia</th>\n",
       "      <th>HASTA 512 kbps</th>\n",
       "      <th>+ 512 Kbps - 1 Mbps</th>\n",
       "      <th>+ 1 Mbps - 6 Mbps</th>\n",
       "      <th>+ 6 Mbps - 10 Mbps</th>\n",
       "      <th>+ 10 Mbps - 20 Mbps</th>\n",
       "      <th>+ 20 Mbps - 30 Mbps</th>\n",
       "      <th>+ 30 Mbps</th>\n",
       "      <th>OTROS</th>\n",
       "      <th>Total</th>\n",
       "    </tr>\n",
       "  </thead>\n",
       "  <tbody>\n",
       "    <tr>\n",
       "      <th>313</th>\n",
       "      <td>2019</td>\n",
       "      <td>2</td>\n",
       "      <td>Capital Federal</td>\n",
       "      <td>74.0</td>\n",
       "      <td>1.027</td>\n",
       "      <td>281.370</td>\n",
       "      <td>124.087</td>\n",
       "      <td>239.691</td>\n",
       "      <td>296.155</td>\n",
       "      <td>475.991</td>\n",
       "      <td>NaN</td>\n",
       "      <td>1.418.395</td>\n",
       "    </tr>\n",
       "    <tr>\n",
       "      <th>323</th>\n",
       "      <td>2019</td>\n",
       "      <td>2</td>\n",
       "      <td>La Rioja</td>\n",
       "      <td>9.0</td>\n",
       "      <td>11.000</td>\n",
       "      <td>39.819</td>\n",
       "      <td>4.297</td>\n",
       "      <td>4.857</td>\n",
       "      <td>13.000</td>\n",
       "      <td>1.298</td>\n",
       "      <td>NaN</td>\n",
       "      <td>50.304</td>\n",
       "    </tr>\n",
       "    <tr>\n",
       "      <th>324</th>\n",
       "      <td>2019</td>\n",
       "      <td>2</td>\n",
       "      <td>Mendoza</td>\n",
       "      <td>20.0</td>\n",
       "      <td>2.522</td>\n",
       "      <td>205.165</td>\n",
       "      <td>2.971</td>\n",
       "      <td>10.092</td>\n",
       "      <td>1.256</td>\n",
       "      <td>234</td>\n",
       "      <td>NaN</td>\n",
       "      <td>222.260</td>\n",
       "    </tr>\n",
       "    <tr>\n",
       "      <th>331</th>\n",
       "      <td>2019</td>\n",
       "      <td>2</td>\n",
       "      <td>Santa Cruz</td>\n",
       "      <td>25.0</td>\n",
       "      <td>84.000</td>\n",
       "      <td>24.861</td>\n",
       "      <td>3.806</td>\n",
       "      <td>1.202</td>\n",
       "      <td>28.000</td>\n",
       "      <td>4</td>\n",
       "      <td>NaN</td>\n",
       "      <td>30.010</td>\n",
       "    </tr>\n",
       "    <tr>\n",
       "      <th>334</th>\n",
       "      <td>2019</td>\n",
       "      <td>2</td>\n",
       "      <td>Tierra Del Fuego</td>\n",
       "      <td>6.0</td>\n",
       "      <td>123.000</td>\n",
       "      <td>41.824</td>\n",
       "      <td>4.241</td>\n",
       "      <td>1.573</td>\n",
       "      <td>96.000</td>\n",
       "      <td>32</td>\n",
       "      <td>NaN</td>\n",
       "      <td>47.895</td>\n",
       "    </tr>\n",
       "    <tr>\n",
       "      <th>335</th>\n",
       "      <td>2019</td>\n",
       "      <td>2</td>\n",
       "      <td>Tucumán</td>\n",
       "      <td>16.0</td>\n",
       "      <td>157.000</td>\n",
       "      <td>78.891</td>\n",
       "      <td>44.296</td>\n",
       "      <td>24.291</td>\n",
       "      <td>628.000</td>\n",
       "      <td>18.394</td>\n",
       "      <td>NaN</td>\n",
       "      <td>166.673</td>\n",
       "    </tr>\n",
       "  </tbody>\n",
       "</table>\n",
       "</div>"
      ],
      "text/plain": [
       "      Año  Trimestre         Provincia  HASTA 512 kbps  + 512 Kbps - 1 Mbps  \\\n",
       "313  2019          2   Capital Federal            74.0                1.027   \n",
       "323  2019          2          La Rioja             9.0               11.000   \n",
       "324  2019          2           Mendoza            20.0                2.522   \n",
       "331  2019          2        Santa Cruz            25.0               84.000   \n",
       "334  2019          2  Tierra Del Fuego             6.0              123.000   \n",
       "335  2019          2           Tucumán            16.0              157.000   \n",
       "\n",
       "    + 1 Mbps - 6 Mbps  + 6 Mbps - 10 Mbps  + 10 Mbps - 20 Mbps  \\\n",
       "313           281.370             124.087              239.691   \n",
       "323            39.819               4.297                4.857   \n",
       "324           205.165               2.971               10.092   \n",
       "331            24.861               3.806                1.202   \n",
       "334            41.824               4.241                1.573   \n",
       "335            78.891              44.296               24.291   \n",
       "\n",
       "     + 20 Mbps - 30 Mbps + 30 Mbps  OTROS      Total  \n",
       "313              296.155   475.991    NaN  1.418.395  \n",
       "323               13.000     1.298    NaN     50.304  \n",
       "324                1.256       234    NaN    222.260  \n",
       "331               28.000         4    NaN     30.010  \n",
       "334               96.000        32    NaN     47.895  \n",
       "335              628.000    18.394    NaN    166.673  "
      ]
     },
     "execution_count": 745,
     "metadata": {},
     "output_type": "execute_result"
    }
   ],
   "source": [
    "df_acc_banda_ancha_angosta_prov[df_acc_banda_ancha_angosta_prov.isnull().any(axis=1)]"
   ]
  },
  {
   "cell_type": "markdown",
   "metadata": {},
   "source": [
    "### Cambiamos los formatos de columnas"
   ]
  },
  {
   "cell_type": "code",
   "execution_count": 746,
   "metadata": {},
   "outputs": [],
   "source": [
    "#Transformamos la columna 'HASTA 512 kbps' a string para reemplazar puntos por \"\", para luego cambiar a formato int\n",
    "df_acc_banda_ancha_angosta_prov['HASTA 512 kbps'] = df_acc_banda_ancha_angosta_prov['HASTA 512 kbps'].astype('string')\n",
    "df_acc_banda_ancha_angosta_prov['HASTA 512 kbps'] = df_acc_banda_ancha_angosta_prov['HASTA 512 kbps'].str.replace('.', '')\n",
    "df_acc_banda_ancha_angosta_prov['HASTA 512 kbps'] = df_acc_banda_ancha_angosta_prov['HASTA 512 kbps'].astype('int')"
   ]
  },
  {
   "cell_type": "code",
   "execution_count": 747,
   "metadata": {},
   "outputs": [],
   "source": [
    "#Transformamos la columna '+ 512 Kbps - 1 Mbps' a string para reemplazar puntos por \"\", para luego cambiar a formato int\n",
    "df_acc_banda_ancha_angosta_prov['+ 512 Kbps - 1 Mbps'] = df_acc_banda_ancha_angosta_prov['+ 512 Kbps - 1 Mbps'].astype('string')\n",
    "df_acc_banda_ancha_angosta_prov['+ 512 Kbps - 1 Mbps'] = df_acc_banda_ancha_angosta_prov['+ 512 Kbps - 1 Mbps'].str.replace('.', '')\n",
    "df_acc_banda_ancha_angosta_prov['+ 512 Kbps - 1 Mbps'] = df_acc_banda_ancha_angosta_prov['+ 512 Kbps - 1 Mbps'].astype('int')"
   ]
  },
  {
   "cell_type": "code",
   "execution_count": 748,
   "metadata": {},
   "outputs": [],
   "source": [
    "#Transformamos la columna '+ 1 Mbps - 6 Mbps' a string para reemplazar puntos por \"\", para luego cambiar a formato int\n",
    "df_acc_banda_ancha_angosta_prov['+ 1 Mbps - 6 Mbps'] = df_acc_banda_ancha_angosta_prov['+ 1 Mbps - 6 Mbps'].astype('string')\n",
    "df_acc_banda_ancha_angosta_prov['+ 1 Mbps - 6 Mbps'] = df_acc_banda_ancha_angosta_prov['+ 1 Mbps - 6 Mbps'].str.replace('.', '')\n",
    "df_acc_banda_ancha_angosta_prov['+ 1 Mbps - 6 Mbps'] = df_acc_banda_ancha_angosta_prov['+ 1 Mbps - 6 Mbps'].astype('int')"
   ]
  },
  {
   "cell_type": "code",
   "execution_count": 749,
   "metadata": {},
   "outputs": [],
   "source": [
    "#Transformamos la columna '+ 6 Mbps - 10 Mbps' a string para reemplazar puntos por \"\", para luego cambiar a formato int\n",
    "df_acc_banda_ancha_angosta_prov['+ 6 Mbps - 10 Mbps'] = df_acc_banda_ancha_angosta_prov['+ 6 Mbps - 10 Mbps'].astype('string')\n",
    "df_acc_banda_ancha_angosta_prov['+ 6 Mbps - 10 Mbps'] = df_acc_banda_ancha_angosta_prov['+ 6 Mbps - 10 Mbps'].str.replace('.', '')\n",
    "df_acc_banda_ancha_angosta_prov['+ 6 Mbps - 10 Mbps'] = df_acc_banda_ancha_angosta_prov['+ 6 Mbps - 10 Mbps'].astype('int')"
   ]
  },
  {
   "cell_type": "code",
   "execution_count": 750,
   "metadata": {},
   "outputs": [],
   "source": [
    "#Transformamos la columna '+ 10 Mbps - 20 Mbps' a string para reemplazar puntos por \"\", para luego cambiar a formato int\n",
    "df_acc_banda_ancha_angosta_prov['+ 10 Mbps - 20 Mbps'] = df_acc_banda_ancha_angosta_prov['+ 10 Mbps - 20 Mbps'].astype('string')\n",
    "df_acc_banda_ancha_angosta_prov['+ 10 Mbps - 20 Mbps'] = df_acc_banda_ancha_angosta_prov['+ 10 Mbps - 20 Mbps'].str.replace('.', '')\n",
    "df_acc_banda_ancha_angosta_prov['+ 10 Mbps - 20 Mbps'] = df_acc_banda_ancha_angosta_prov['+ 10 Mbps - 20 Mbps'].astype('int')"
   ]
  },
  {
   "cell_type": "code",
   "execution_count": 751,
   "metadata": {},
   "outputs": [],
   "source": [
    "#Transformamos la columna '+ 20 Mbps - 30 Mbps' a string para reemplazar puntos por \"\", para luego cambiar a formato int\n",
    "df_acc_banda_ancha_angosta_prov['+ 20 Mbps - 30 Mbps'] = df_acc_banda_ancha_angosta_prov['+ 20 Mbps - 30 Mbps'].astype('string')\n",
    "df_acc_banda_ancha_angosta_prov['+ 20 Mbps - 30 Mbps'] = df_acc_banda_ancha_angosta_prov['+ 20 Mbps - 30 Mbps'].str.replace('.', '')\n",
    "df_acc_banda_ancha_angosta_prov['+ 20 Mbps - 30 Mbps'] = df_acc_banda_ancha_angosta_prov['+ 20 Mbps - 30 Mbps'].astype('int')"
   ]
  },
  {
   "cell_type": "code",
   "execution_count": 752,
   "metadata": {},
   "outputs": [],
   "source": [
    "#Transformamos la columna '+ 30 Mbps' a string para reemplazar puntos por \"\", para luego cambiar a formato int\n",
    "df_acc_banda_ancha_angosta_prov['+ 30 Mbps'] = df_acc_banda_ancha_angosta_prov['+ 30 Mbps'].astype('string')\n",
    "df_acc_banda_ancha_angosta_prov['+ 30 Mbps'] = df_acc_banda_ancha_angosta_prov['+ 30 Mbps'].str.replace('.', '')\n",
    "df_acc_banda_ancha_angosta_prov['+ 30 Mbps'] = df_acc_banda_ancha_angosta_prov['+ 30 Mbps'].astype('int')"
   ]
  },
  {
   "cell_type": "code",
   "execution_count": 753,
   "metadata": {},
   "outputs": [],
   "source": [
    "#Transformamos la columna '+ 30 Mbps' a string para reemplazar puntos por \"\", para luego cambiar a formato float\n",
    "df_acc_banda_ancha_angosta_prov['OTROS'] = df_acc_banda_ancha_angosta_prov['OTROS'].apply(lambda x: float(str(x).replace(\".\",\"\")) if pd.notnull(x) else None)"
   ]
  },
  {
   "cell_type": "code",
   "execution_count": 803,
   "metadata": {},
   "outputs": [
    {
     "data": {
      "text/html": [
       "<div>\n",
       "<style scoped>\n",
       "    .dataframe tbody tr th:only-of-type {\n",
       "        vertical-align: middle;\n",
       "    }\n",
       "\n",
       "    .dataframe tbody tr th {\n",
       "        vertical-align: top;\n",
       "    }\n",
       "\n",
       "    .dataframe thead th {\n",
       "        text-align: right;\n",
       "    }\n",
       "</style>\n",
       "<table border=\"1\" class=\"dataframe\">\n",
       "  <thead>\n",
       "    <tr style=\"text-align: right;\">\n",
       "      <th></th>\n",
       "      <th>Año</th>\n",
       "      <th>Trimestre</th>\n",
       "      <th>Provincia</th>\n",
       "      <th>HASTA 512 kbps</th>\n",
       "      <th>+ 512 Kbps - 1 Mbps</th>\n",
       "      <th>+ 1 Mbps - 6 Mbps</th>\n",
       "      <th>+ 6 Mbps - 10 Mbps</th>\n",
       "      <th>+ 10 Mbps - 20 Mbps</th>\n",
       "      <th>+ 20 Mbps - 30 Mbps</th>\n",
       "      <th>+ 30 Mbps</th>\n",
       "      <th>OTROS</th>\n",
       "      <th>Total</th>\n",
       "    </tr>\n",
       "  </thead>\n",
       "  <tbody>\n",
       "    <tr>\n",
       "      <th>0</th>\n",
       "      <td>2022</td>\n",
       "      <td>3</td>\n",
       "      <td>Buenos Aires</td>\n",
       "      <td>29985</td>\n",
       "      <td>27709</td>\n",
       "      <td>290315</td>\n",
       "      <td>297915</td>\n",
       "      <td>267044</td>\n",
       "      <td>12419</td>\n",
       "      <td>3618689</td>\n",
       "      <td>65821.0</td>\n",
       "      <td>4721668</td>\n",
       "    </tr>\n",
       "    <tr>\n",
       "      <th>1</th>\n",
       "      <td>2022</td>\n",
       "      <td>3</td>\n",
       "      <td>Capital Federal</td>\n",
       "      <td>5170</td>\n",
       "      <td>5742</td>\n",
       "      <td>34371</td>\n",
       "      <td>67829</td>\n",
       "      <td>51946</td>\n",
       "      <td>28692</td>\n",
       "      <td>1253105</td>\n",
       "      <td>105477.0</td>\n",
       "      <td>1547679</td>\n",
       "    </tr>\n",
       "    <tr>\n",
       "      <th>2</th>\n",
       "      <td>2022</td>\n",
       "      <td>3</td>\n",
       "      <td>Catamarca</td>\n",
       "      <td>710</td>\n",
       "      <td>3840</td>\n",
       "      <td>3107</td>\n",
       "      <td>5389</td>\n",
       "      <td>5099</td>\n",
       "      <td>3737</td>\n",
       "      <td>50298</td>\n",
       "      <td>2208.0</td>\n",
       "      <td>70293</td>\n",
       "    </tr>\n",
       "    <tr>\n",
       "      <th>3</th>\n",
       "      <td>2022</td>\n",
       "      <td>3</td>\n",
       "      <td>Chaco</td>\n",
       "      <td>4610</td>\n",
       "      <td>9870</td>\n",
       "      <td>16782</td>\n",
       "      <td>18938</td>\n",
       "      <td>8049</td>\n",
       "      <td>15828</td>\n",
       "      <td>79390</td>\n",
       "      <td>3711.0</td>\n",
       "      <td>144146</td>\n",
       "    </tr>\n",
       "    <tr>\n",
       "      <th>4</th>\n",
       "      <td>2022</td>\n",
       "      <td>3</td>\n",
       "      <td>Chubut</td>\n",
       "      <td>1090</td>\n",
       "      <td>1444</td>\n",
       "      <td>45707</td>\n",
       "      <td>3094</td>\n",
       "      <td>34682</td>\n",
       "      <td>15309</td>\n",
       "      <td>17563</td>\n",
       "      <td>20024.0</td>\n",
       "      <td>165778</td>\n",
       "    </tr>\n",
       "  </tbody>\n",
       "</table>\n",
       "</div>"
      ],
      "text/plain": [
       "    Año  Trimestre        Provincia  HASTA 512 kbps  + 512 Kbps - 1 Mbps  \\\n",
       "0  2022          3     Buenos Aires           29985                27709   \n",
       "1  2022          3  Capital Federal            5170                 5742   \n",
       "2  2022          3        Catamarca             710                 3840   \n",
       "3  2022          3            Chaco            4610                 9870   \n",
       "4  2022          3           Chubut            1090                 1444   \n",
       "\n",
       "   + 1 Mbps - 6 Mbps  + 6 Mbps - 10 Mbps  + 10 Mbps - 20 Mbps  \\\n",
       "0             290315              297915               267044   \n",
       "1              34371               67829                51946   \n",
       "2               3107                5389                 5099   \n",
       "3              16782               18938                 8049   \n",
       "4              45707                3094                34682   \n",
       "\n",
       "   + 20 Mbps - 30 Mbps  + 30 Mbps     OTROS    Total  \n",
       "0                12419    3618689   65821.0  4721668  \n",
       "1                28692    1253105  105477.0  1547679  \n",
       "2                 3737      50298    2208.0    70293  \n",
       "3                15828      79390    3711.0   144146  \n",
       "4                15309      17563   20024.0   165778  "
      ]
     },
     "execution_count": 803,
     "metadata": {},
     "output_type": "execute_result"
    }
   ],
   "source": [
    "df_acc_banda_ancha_angosta_prov.head()"
   ]
  },
  {
   "cell_type": "code",
   "execution_count": 802,
   "metadata": {},
   "outputs": [],
   "source": [
    "df_acc_banda_ancha_angosta_prov['Total'] = df_acc_banda_ancha_angosta_prov['Total'].astype('string')\n",
    "df_acc_banda_ancha_angosta_prov['Total'] = df_acc_banda_ancha_angosta_prov['Total'].str.replace('.', '')\n",
    "df_acc_banda_ancha_angosta_prov['Total'] = df_acc_banda_ancha_angosta_prov['Total'].astype('int')"
   ]
  },
  {
   "cell_type": "markdown",
   "metadata": {},
   "source": [
    "### Guardamos los cambios en un archivo csv"
   ]
  },
  {
   "cell_type": "code",
   "execution_count": 755,
   "metadata": {},
   "outputs": [],
   "source": [
    "df_acc_banda_ancha_angosta_prov.to_csv('Datasets_normalizados/Internet_Accesos-por-velocidad.csv', index=False)"
   ]
  },
  {
   "cell_type": "markdown",
   "metadata": {},
   "source": [
    "# Penetracion de Internet fijo (accesos por cada 100 hogares)"
   ]
  },
  {
   "cell_type": "code",
   "execution_count": 756,
   "metadata": {},
   "outputs": [],
   "source": [
    "df_penetracion_int_fijo_100hog = pd.read_csv('Datasets\\Internet_Penetracion-por-100-hog_hab.csv', decimal=',')"
   ]
  },
  {
   "cell_type": "code",
   "execution_count": 757,
   "metadata": {},
   "outputs": [
    {
     "data": {
      "text/html": [
       "<div>\n",
       "<style scoped>\n",
       "    .dataframe tbody tr th:only-of-type {\n",
       "        vertical-align: middle;\n",
       "    }\n",
       "\n",
       "    .dataframe tbody tr th {\n",
       "        vertical-align: top;\n",
       "    }\n",
       "\n",
       "    .dataframe thead th {\n",
       "        text-align: right;\n",
       "    }\n",
       "</style>\n",
       "<table border=\"1\" class=\"dataframe\">\n",
       "  <thead>\n",
       "    <tr style=\"text-align: right;\">\n",
       "      <th></th>\n",
       "      <th>Año</th>\n",
       "      <th>Trimestre</th>\n",
       "      <th>Accesos por cada 100 hogares</th>\n",
       "      <th>Accesos por cada 100 hab</th>\n",
       "      <th>Periodo</th>\n",
       "    </tr>\n",
       "  </thead>\n",
       "  <tbody>\n",
       "    <tr>\n",
       "      <th>0</th>\n",
       "      <td>2022</td>\n",
       "      <td>3</td>\n",
       "      <td>76.64</td>\n",
       "      <td>23.95</td>\n",
       "      <td>Jul-Sept 2022</td>\n",
       "    </tr>\n",
       "    <tr>\n",
       "      <th>1</th>\n",
       "      <td>2022</td>\n",
       "      <td>2</td>\n",
       "      <td>75.97</td>\n",
       "      <td>23.72</td>\n",
       "      <td>Abr-Jun 2022</td>\n",
       "    </tr>\n",
       "    <tr>\n",
       "      <th>2</th>\n",
       "      <td>2022</td>\n",
       "      <td>1</td>\n",
       "      <td>73.88</td>\n",
       "      <td>23.05</td>\n",
       "      <td>Ene-Mar 2022</td>\n",
       "    </tr>\n",
       "  </tbody>\n",
       "</table>\n",
       "</div>"
      ],
      "text/plain": [
       "    Año  Trimestre  Accesos por cada 100 hogares  Accesos por cada 100 hab  \\\n",
       "0  2022          3                         76.64                     23.95   \n",
       "1  2022          2                         75.97                     23.72   \n",
       "2  2022          1                         73.88                     23.05   \n",
       "\n",
       "         Periodo  \n",
       "0  Jul-Sept 2022  \n",
       "1   Abr-Jun 2022  \n",
       "2   Ene-Mar 2022  "
      ]
     },
     "execution_count": 757,
     "metadata": {},
     "output_type": "execute_result"
    }
   ],
   "source": [
    "df_penetracion_int_fijo_100hog.head(3)"
   ]
  },
  {
   "cell_type": "code",
   "execution_count": 758,
   "metadata": {},
   "outputs": [
    {
     "name": "stdout",
     "output_type": "stream",
     "text": [
      "<class 'pandas.core.frame.DataFrame'>\n",
      "RangeIndex: 35 entries, 0 to 34\n",
      "Data columns (total 5 columns):\n",
      " #   Column                        Non-Null Count  Dtype  \n",
      "---  ------                        --------------  -----  \n",
      " 0   Año                           35 non-null     int64  \n",
      " 1   Trimestre                     35 non-null     int64  \n",
      " 2   Accesos por cada 100 hogares  35 non-null     float64\n",
      " 3   Accesos por cada 100 hab      35 non-null     float64\n",
      " 4   Periodo                       35 non-null     object \n",
      "dtypes: float64(2), int64(2), object(1)\n",
      "memory usage: 1.5+ KB\n"
     ]
    }
   ],
   "source": [
    "df_penetracion_int_fijo_100hog.info()"
   ]
  },
  {
   "cell_type": "markdown",
   "metadata": {},
   "source": [
    "# Penetracion de internet fijo (accesos cada 100 hogares por provincia)"
   ]
  },
  {
   "cell_type": "code",
   "execution_count": 759,
   "metadata": {},
   "outputs": [],
   "source": [
    "df_hog_x_prov = pd.read_csv('Datasets\\Internet_Penetracion-por-100-hog-provincia.csv', decimal=',')"
   ]
  },
  {
   "cell_type": "code",
   "execution_count": 760,
   "metadata": {},
   "outputs": [
    {
     "data": {
      "text/html": [
       "<div>\n",
       "<style scoped>\n",
       "    .dataframe tbody tr th:only-of-type {\n",
       "        vertical-align: middle;\n",
       "    }\n",
       "\n",
       "    .dataframe tbody tr th {\n",
       "        vertical-align: top;\n",
       "    }\n",
       "\n",
       "    .dataframe thead th {\n",
       "        text-align: right;\n",
       "    }\n",
       "</style>\n",
       "<table border=\"1\" class=\"dataframe\">\n",
       "  <thead>\n",
       "    <tr style=\"text-align: right;\">\n",
       "      <th></th>\n",
       "      <th>Año</th>\n",
       "      <th>Trimestre</th>\n",
       "      <th>Provincia</th>\n",
       "      <th>Accesos por cada 100 hogares</th>\n",
       "    </tr>\n",
       "  </thead>\n",
       "  <tbody>\n",
       "    <tr>\n",
       "      <th>0</th>\n",
       "      <td>2022</td>\n",
       "      <td>3</td>\n",
       "      <td>Buenos Aires</td>\n",
       "      <td>78.11</td>\n",
       "    </tr>\n",
       "    <tr>\n",
       "      <th>1</th>\n",
       "      <td>2022</td>\n",
       "      <td>3</td>\n",
       "      <td>Capital Federal</td>\n",
       "      <td>122.28</td>\n",
       "    </tr>\n",
       "    <tr>\n",
       "      <th>2</th>\n",
       "      <td>2022</td>\n",
       "      <td>3</td>\n",
       "      <td>Catamarca</td>\n",
       "      <td>65.33</td>\n",
       "    </tr>\n",
       "  </tbody>\n",
       "</table>\n",
       "</div>"
      ],
      "text/plain": [
       "    Año  Trimestre        Provincia  Accesos por cada 100 hogares\n",
       "0  2022          3     Buenos Aires                         78.11\n",
       "1  2022          3  Capital Federal                        122.28\n",
       "2  2022          3        Catamarca                         65.33"
      ]
     },
     "execution_count": 760,
     "metadata": {},
     "output_type": "execute_result"
    }
   ],
   "source": [
    "df_hog_x_prov.head(3)"
   ]
  },
  {
   "cell_type": "code",
   "execution_count": 761,
   "metadata": {},
   "outputs": [
    {
     "name": "stdout",
     "output_type": "stream",
     "text": [
      "<class 'pandas.core.frame.DataFrame'>\n",
      "RangeIndex: 840 entries, 0 to 839\n",
      "Data columns (total 4 columns):\n",
      " #   Column                        Non-Null Count  Dtype  \n",
      "---  ------                        --------------  -----  \n",
      " 0   Año                           840 non-null    int64  \n",
      " 1   Trimestre                     840 non-null    int64  \n",
      " 2   Provincia                     840 non-null    object \n",
      " 3   Accesos por cada 100 hogares  840 non-null    float64\n",
      "dtypes: float64(1), int64(2), object(1)\n",
      "memory usage: 26.4+ KB\n"
     ]
    }
   ],
   "source": [
    "df_hog_x_prov.info()"
   ]
  },
  {
   "cell_type": "markdown",
   "metadata": {},
   "source": [
    "# Tecnologías"
   ]
  },
  {
   "cell_type": "code",
   "execution_count": 762,
   "metadata": {},
   "outputs": [],
   "source": [
    "df_tecnologias = pd.read_csv('Datasets\\Internet_Accesos-por-tecnologia.csv')"
   ]
  },
  {
   "cell_type": "code",
   "execution_count": 763,
   "metadata": {},
   "outputs": [
    {
     "data": {
      "text/html": [
       "<div>\n",
       "<style scoped>\n",
       "    .dataframe tbody tr th:only-of-type {\n",
       "        vertical-align: middle;\n",
       "    }\n",
       "\n",
       "    .dataframe tbody tr th {\n",
       "        vertical-align: top;\n",
       "    }\n",
       "\n",
       "    .dataframe thead th {\n",
       "        text-align: right;\n",
       "    }\n",
       "</style>\n",
       "<table border=\"1\" class=\"dataframe\">\n",
       "  <thead>\n",
       "    <tr style=\"text-align: right;\">\n",
       "      <th></th>\n",
       "      <th>Año</th>\n",
       "      <th>Trimestre</th>\n",
       "      <th>ADSL</th>\n",
       "      <th>Cablemodem</th>\n",
       "      <th>Fibra óptica</th>\n",
       "      <th>Wireless</th>\n",
       "      <th>Otros</th>\n",
       "      <th>Total</th>\n",
       "      <th>Periodo</th>\n",
       "    </tr>\n",
       "  </thead>\n",
       "  <tbody>\n",
       "    <tr>\n",
       "      <th>0</th>\n",
       "      <td>2022</td>\n",
       "      <td>3</td>\n",
       "      <td>1.395.277</td>\n",
       "      <td>6.031.970</td>\n",
       "      <td>2.871.541</td>\n",
       "      <td>557.110</td>\n",
       "      <td>235.230</td>\n",
       "      <td>11.091.128</td>\n",
       "      <td>Jul-Sept 2022</td>\n",
       "    </tr>\n",
       "    <tr>\n",
       "      <th>1</th>\n",
       "      <td>2022</td>\n",
       "      <td>2</td>\n",
       "      <td>1.468.333</td>\n",
       "      <td>5.979.214</td>\n",
       "      <td>2.723.285</td>\n",
       "      <td>556.243</td>\n",
       "      <td>231.609</td>\n",
       "      <td>10.958.684</td>\n",
       "      <td>Abr-Jun 2022</td>\n",
       "    </tr>\n",
       "    <tr>\n",
       "      <th>2</th>\n",
       "      <td>2022</td>\n",
       "      <td>1</td>\n",
       "      <td>1.533.240</td>\n",
       "      <td>6.073.426</td>\n",
       "      <td>2.219.533</td>\n",
       "      <td>545.814</td>\n",
       "      <td>251.996</td>\n",
       "      <td>10.624.009</td>\n",
       "      <td>Ene-Mar 2022</td>\n",
       "    </tr>\n",
       "  </tbody>\n",
       "</table>\n",
       "</div>"
      ],
      "text/plain": [
       "    Año  Trimestre       ADSL Cablemodem Fibra óptica  Wireless    Otros  \\\n",
       "0  2022          3  1.395.277  6.031.970    2.871.541   557.110  235.230   \n",
       "1  2022          2  1.468.333  5.979.214    2.723.285   556.243  231.609   \n",
       "2  2022          1  1.533.240  6.073.426    2.219.533   545.814  251.996   \n",
       "\n",
       "        Total        Periodo  \n",
       "0  11.091.128  Jul-Sept 2022  \n",
       "1  10.958.684   Abr-Jun 2022  \n",
       "2  10.624.009   Ene-Mar 2022  "
      ]
     },
     "execution_count": 763,
     "metadata": {},
     "output_type": "execute_result"
    }
   ],
   "source": [
    "df_tecnologias.head(3)"
   ]
  },
  {
   "cell_type": "code",
   "execution_count": 764,
   "metadata": {},
   "outputs": [
    {
     "name": "stdout",
     "output_type": "stream",
     "text": [
      "<class 'pandas.core.frame.DataFrame'>\n",
      "RangeIndex: 35 entries, 0 to 34\n",
      "Data columns (total 9 columns):\n",
      " #   Column        Non-Null Count  Dtype  \n",
      "---  ------        --------------  -----  \n",
      " 0   Año           35 non-null     int64  \n",
      " 1   Trimestre     35 non-null     int64  \n",
      " 2   ADSL          35 non-null     object \n",
      " 3   Cablemodem    35 non-null     object \n",
      " 4   Fibra óptica  35 non-null     object \n",
      " 5   Wireless      35 non-null     float64\n",
      " 6   Otros         35 non-null     float64\n",
      " 7   Total         35 non-null     object \n",
      " 8   Periodo       35 non-null     object \n",
      "dtypes: float64(2), int64(2), object(5)\n",
      "memory usage: 2.6+ KB\n"
     ]
    }
   ],
   "source": [
    "df_tecnologias.info()"
   ]
  },
  {
   "cell_type": "markdown",
   "metadata": {},
   "source": [
    "### Cambiamos formatos de la columnas"
   ]
  },
  {
   "cell_type": "code",
   "execution_count": 765,
   "metadata": {},
   "outputs": [],
   "source": [
    "#Transformamos las columnas Wireless y Otros a str\n",
    "df_tecnologias['Wireless'] =df_tecnologias['Wireless'].astype(str) \n",
    "df_tecnologias['Otros'] = df_tecnologias['Otros'].astype(str)"
   ]
  },
  {
   "cell_type": "code",
   "execution_count": 766,
   "metadata": {},
   "outputs": [],
   "source": [
    "#Transformamos las columnas a formato str para cambiar los puntos por \"\"\n",
    "df_tecnologias['ADSL'] = df_tecnologias['ADSL'].str.replace(\".\", \"\")\n",
    "df_tecnologias['Cablemodem'] = df_tecnologias['Cablemodem'].str.replace(\".\", \"\")\n",
    "df_tecnologias['Fibra óptica'] = df_tecnologias['Fibra óptica'].str.replace(\".\", \"\")\n",
    "df_tecnologias['Total'] = df_tecnologias['Total'].str.replace(\".\", \"\")\n",
    "df_tecnologias['Wireless'] = df_tecnologias['Wireless'].str.replace(\".\", \"\")\n",
    "df_tecnologias['Otros'] = df_tecnologias['Otros'].str.replace(\".\", \"\")"
   ]
  },
  {
   "cell_type": "code",
   "execution_count": 767,
   "metadata": {},
   "outputs": [],
   "source": [
    "#Transformamos las columnas a formato int\n",
    "df_tecnologias['ADSL'] = df_tecnologias['ADSL'].astype(int)\n",
    "df_tecnologias['Cablemodem'] = df_tecnologias['Cablemodem'].astype(int)\n",
    "df_tecnologias['Fibra óptica'] = df_tecnologias['Fibra óptica'].astype(int)\n",
    "df_tecnologias['Total'] = df_tecnologias['Total'].astype(int)\n",
    "df_tecnologias['Wireless'] = df_tecnologias['Wireless'].astype(int)\n",
    "df_tecnologias['Otros'] = df_tecnologias['Otros'].astype(int)"
   ]
  },
  {
   "cell_type": "code",
   "execution_count": 768,
   "metadata": {},
   "outputs": [
    {
     "name": "stdout",
     "output_type": "stream",
     "text": [
      "<class 'pandas.core.frame.DataFrame'>\n",
      "RangeIndex: 35 entries, 0 to 34\n",
      "Data columns (total 9 columns):\n",
      " #   Column        Non-Null Count  Dtype \n",
      "---  ------        --------------  ----- \n",
      " 0   Año           35 non-null     int64 \n",
      " 1   Trimestre     35 non-null     int64 \n",
      " 2   ADSL          35 non-null     int32 \n",
      " 3   Cablemodem    35 non-null     int32 \n",
      " 4   Fibra óptica  35 non-null     int32 \n",
      " 5   Wireless      35 non-null     int32 \n",
      " 6   Otros         35 non-null     int32 \n",
      " 7   Total         35 non-null     int32 \n",
      " 8   Periodo       35 non-null     object\n",
      "dtypes: int32(6), int64(2), object(1)\n",
      "memory usage: 1.8+ KB\n"
     ]
    }
   ],
   "source": [
    "df_tecnologias.info()"
   ]
  },
  {
   "cell_type": "markdown",
   "metadata": {},
   "source": [
    "### Cargamos los datos en un archivo csv"
   ]
  },
  {
   "cell_type": "code",
   "execution_count": 769,
   "metadata": {},
   "outputs": [],
   "source": [
    "df_tecnologias.to_csv('Datasets_normalizados\\Internet_Accesos-por-tecnologia.csv', index=False)"
   ]
  },
  {
   "cell_type": "markdown",
   "metadata": {},
   "source": [
    "### Ingresos"
   ]
  },
  {
   "cell_type": "code",
   "execution_count": 770,
   "metadata": {},
   "outputs": [],
   "source": [
    "df_ingresos =pd.read_csv('Datasets\\Internet_Ingresos.csv')"
   ]
  },
  {
   "cell_type": "code",
   "execution_count": 771,
   "metadata": {},
   "outputs": [
    {
     "data": {
      "text/html": [
       "<div>\n",
       "<style scoped>\n",
       "    .dataframe tbody tr th:only-of-type {\n",
       "        vertical-align: middle;\n",
       "    }\n",
       "\n",
       "    .dataframe tbody tr th {\n",
       "        vertical-align: top;\n",
       "    }\n",
       "\n",
       "    .dataframe thead th {\n",
       "        text-align: right;\n",
       "    }\n",
       "</style>\n",
       "<table border=\"1\" class=\"dataframe\">\n",
       "  <thead>\n",
       "    <tr style=\"text-align: right;\">\n",
       "      <th></th>\n",
       "      <th>Año</th>\n",
       "      <th>Trimestre</th>\n",
       "      <th>Ingresos (miles de pesos)</th>\n",
       "      <th>Periodo</th>\n",
       "    </tr>\n",
       "  </thead>\n",
       "  <tbody>\n",
       "    <tr>\n",
       "      <th>0</th>\n",
       "      <td>2022</td>\n",
       "      <td>3</td>\n",
       "      <td>67.055.930</td>\n",
       "      <td>Jul-Sept 2022</td>\n",
       "    </tr>\n",
       "    <tr>\n",
       "      <th>1</th>\n",
       "      <td>2022</td>\n",
       "      <td>2</td>\n",
       "      <td>60.335.724</td>\n",
       "      <td>Abr-Jun 2022</td>\n",
       "    </tr>\n",
       "    <tr>\n",
       "      <th>2</th>\n",
       "      <td>2022</td>\n",
       "      <td>1</td>\n",
       "      <td>55.589.997</td>\n",
       "      <td>Ene-Mar 2022</td>\n",
       "    </tr>\n",
       "  </tbody>\n",
       "</table>\n",
       "</div>"
      ],
      "text/plain": [
       "    Año  Trimestre Ingresos (miles de pesos)        Periodo\n",
       "0  2022          3                67.055.930  Jul-Sept 2022\n",
       "1  2022          2                60.335.724   Abr-Jun 2022\n",
       "2  2022          1                55.589.997   Ene-Mar 2022"
      ]
     },
     "execution_count": 771,
     "metadata": {},
     "output_type": "execute_result"
    }
   ],
   "source": [
    "df_ingresos.head(3)"
   ]
  },
  {
   "cell_type": "code",
   "execution_count": 772,
   "metadata": {},
   "outputs": [
    {
     "name": "stdout",
     "output_type": "stream",
     "text": [
      "<class 'pandas.core.frame.DataFrame'>\n",
      "RangeIndex: 35 entries, 0 to 34\n",
      "Data columns (total 4 columns):\n",
      " #   Column                     Non-Null Count  Dtype \n",
      "---  ------                     --------------  ----- \n",
      " 0   Año                        35 non-null     int64 \n",
      " 1   Trimestre                  35 non-null     int64 \n",
      " 2   Ingresos (miles de pesos)  35 non-null     object\n",
      " 3   Periodo                    35 non-null     object\n",
      "dtypes: int64(2), object(2)\n",
      "memory usage: 1.2+ KB\n"
     ]
    }
   ],
   "source": [
    "df_ingresos.info()"
   ]
  },
  {
   "cell_type": "code",
   "execution_count": 773,
   "metadata": {},
   "outputs": [
    {
     "data": {
      "text/plain": [
       "0     67.055.930\n",
       "1     60.335.724\n",
       "2     55.589.997\n",
       "3     45.467.887\n",
       "4     42.999.944\n",
       "5     38.239.667\n",
       "6     36.676.371\n",
       "7     33.539.703\n",
       "8     31.997.445\n",
       "9     32.102.476\n",
       "10    29.946.216\n",
       "11    24.169.251\n",
       "12    21.652.748\n",
       "13    20.743.118\n",
       "14    20.207.414\n",
       "15    16.637.687\n",
       "16    15.410.981\n",
       "17    14.319.467\n",
       "18    13.171.459\n",
       "19    11.226.127\n",
       "20    10.065.998\n",
       "21     9.678.647\n",
       "22     8.701.201\n",
       "23     7.483.980\n",
       "24     6.912.442\n",
       "25     6.534.241\n",
       "26     5.936.845\n",
       "27     5.376.899\n",
       "28     5.153.739\n",
       "29     4.701.791\n",
       "30     4.876.385\n",
       "31     3.950.441\n",
       "32     3.478.638\n",
       "33     3.270.816\n",
       "34     2.984.054\n",
       "Name: Ingresos (miles de pesos), dtype: object"
      ]
     },
     "execution_count": 773,
     "metadata": {},
     "output_type": "execute_result"
    }
   ],
   "source": [
    "df_ingresos['Ingresos (miles de pesos)']"
   ]
  },
  {
   "cell_type": "markdown",
   "metadata": {},
   "source": [
    "### Cambiamos el formato de la columna Ingresos (miles de pesos) de object a int "
   ]
  },
  {
   "cell_type": "code",
   "execution_count": 774,
   "metadata": {},
   "outputs": [],
   "source": [
    "#Transformamos los datos a str para reemplazar puntos por \"\"\n",
    "df_ingresos['Ingresos (miles de pesos)'] = df_ingresos['Ingresos (miles de pesos)'].str.replace(\".\", \"\")"
   ]
  },
  {
   "cell_type": "code",
   "execution_count": 775,
   "metadata": {},
   "outputs": [],
   "source": [
    "#Transformamos la columna a int\n",
    "df_ingresos['Ingresos (miles de pesos)'] = df_ingresos['Ingresos (miles de pesos)'].astype(int)"
   ]
  },
  {
   "cell_type": "markdown",
   "metadata": {},
   "source": [
    "### Guardamos los cambios en un archivo csv"
   ]
  },
  {
   "cell_type": "code",
   "execution_count": 776,
   "metadata": {},
   "outputs": [],
   "source": [
    "df_ingresos.to_csv('Datasets_normalizados/Internet_Ingresos.csv', index=False)"
   ]
  },
  {
   "cell_type": "markdown",
   "metadata": {},
   "source": [
    "# Listado de localidades con conectividad a Internet"
   ]
  },
  {
   "cell_type": "code",
   "execution_count": 777,
   "metadata": {},
   "outputs": [],
   "source": [
    "df_tipo_conexion=pd.read_csv('Datasets\\Listadodelocalidadesconconectividadainternet_2750221690224251927.csv')"
   ]
  },
  {
   "cell_type": "code",
   "execution_count": 778,
   "metadata": {},
   "outputs": [
    {
     "data": {
      "text/html": [
       "<div>\n",
       "<style scoped>\n",
       "    .dataframe tbody tr th:only-of-type {\n",
       "        vertical-align: middle;\n",
       "    }\n",
       "\n",
       "    .dataframe tbody tr th {\n",
       "        vertical-align: top;\n",
       "    }\n",
       "\n",
       "    .dataframe thead th {\n",
       "        text-align: right;\n",
       "    }\n",
       "</style>\n",
       "<table border=\"1\" class=\"dataframe\">\n",
       "  <thead>\n",
       "    <tr style=\"text-align: right;\">\n",
       "      <th></th>\n",
       "      <th>Provincia</th>\n",
       "      <th>Partido</th>\n",
       "      <th>Localidad</th>\n",
       "      <th>ADSL</th>\n",
       "      <th>Cablemódem</th>\n",
       "      <th>Dial Up</th>\n",
       "      <th>Fibra óptica</th>\n",
       "      <th>4G</th>\n",
       "      <th>3G</th>\n",
       "      <th>Telefonía Fija</th>\n",
       "      <th>Wireless</th>\n",
       "      <th>Satelital</th>\n",
       "    </tr>\n",
       "  </thead>\n",
       "  <tbody>\n",
       "    <tr>\n",
       "      <th>0</th>\n",
       "      <td>BUENOS AIRES</td>\n",
       "      <td>9 de Julio</td>\n",
       "      <td>Alfredo Demarchi (Est. Facundo Quiroga)</td>\n",
       "      <td>SI</td>\n",
       "      <td>--</td>\n",
       "      <td>--</td>\n",
       "      <td>--</td>\n",
       "      <td>SI</td>\n",
       "      <td>SI</td>\n",
       "      <td>SI</td>\n",
       "      <td>--</td>\n",
       "      <td>--</td>\n",
       "    </tr>\n",
       "    <tr>\n",
       "      <th>1</th>\n",
       "      <td>BUENOS AIRES</td>\n",
       "      <td>9 de Julio</td>\n",
       "      <td>Carlos María Naón</td>\n",
       "      <td>--</td>\n",
       "      <td>--</td>\n",
       "      <td>--</td>\n",
       "      <td>--</td>\n",
       "      <td>SI</td>\n",
       "      <td>SI</td>\n",
       "      <td>SI</td>\n",
       "      <td>--</td>\n",
       "      <td>--</td>\n",
       "    </tr>\n",
       "    <tr>\n",
       "      <th>2</th>\n",
       "      <td>BUENOS AIRES</td>\n",
       "      <td>9 de Julio</td>\n",
       "      <td>Dudignac</td>\n",
       "      <td>--</td>\n",
       "      <td>--</td>\n",
       "      <td>SI</td>\n",
       "      <td>--</td>\n",
       "      <td>SI</td>\n",
       "      <td>SI</td>\n",
       "      <td>SI</td>\n",
       "      <td>SI</td>\n",
       "      <td>--</td>\n",
       "    </tr>\n",
       "    <tr>\n",
       "      <th>3</th>\n",
       "      <td>BUENOS AIRES</td>\n",
       "      <td>9 de Julio</td>\n",
       "      <td>La Aurora (Est. La Niña)</td>\n",
       "      <td>--</td>\n",
       "      <td>--</td>\n",
       "      <td>--</td>\n",
       "      <td>--</td>\n",
       "      <td>SI</td>\n",
       "      <td>--</td>\n",
       "      <td>--</td>\n",
       "      <td>--</td>\n",
       "      <td>--</td>\n",
       "    </tr>\n",
       "    <tr>\n",
       "      <th>4</th>\n",
       "      <td>BUENOS AIRES</td>\n",
       "      <td>9 de Julio</td>\n",
       "      <td>Manuel B. Gonnet (Est. French)</td>\n",
       "      <td>SI</td>\n",
       "      <td>--</td>\n",
       "      <td>--</td>\n",
       "      <td>SI</td>\n",
       "      <td>SI</td>\n",
       "      <td>SI</td>\n",
       "      <td>SI</td>\n",
       "      <td>--</td>\n",
       "      <td>--</td>\n",
       "    </tr>\n",
       "  </tbody>\n",
       "</table>\n",
       "</div>"
      ],
      "text/plain": [
       "      Provincia     Partido                                Localidad ADSL  \\\n",
       "0  BUENOS AIRES  9 de Julio  Alfredo Demarchi (Est. Facundo Quiroga)   SI   \n",
       "1  BUENOS AIRES  9 de Julio                        Carlos María Naón   --   \n",
       "2  BUENOS AIRES  9 de Julio                                 Dudignac   --   \n",
       "3  BUENOS AIRES  9 de Julio                 La Aurora (Est. La Niña)   --   \n",
       "4  BUENOS AIRES  9 de Julio           Manuel B. Gonnet (Est. French)   SI   \n",
       "\n",
       "  Cablemódem Dial Up Fibra óptica  4G  3G Telefonía Fija Wireless Satelital  \n",
       "0         --      --           --  SI  SI             SI       --        --  \n",
       "1         --      --           --  SI  SI             SI       --        --  \n",
       "2         --      SI           --  SI  SI             SI       SI        --  \n",
       "3         --      --           --  SI  --             --       --        --  \n",
       "4         --      --           SI  SI  SI             SI       --        --  "
      ]
     },
     "execution_count": 778,
     "metadata": {},
     "output_type": "execute_result"
    }
   ],
   "source": [
    "df_tipo_conexion.head(5)"
   ]
  },
  {
   "cell_type": "code",
   "execution_count": 779,
   "metadata": {},
   "outputs": [
    {
     "name": "stdout",
     "output_type": "stream",
     "text": [
      "<class 'pandas.core.frame.DataFrame'>\n",
      "RangeIndex: 4311 entries, 0 to 4310\n",
      "Data columns (total 12 columns):\n",
      " #   Column          Non-Null Count  Dtype \n",
      "---  ------          --------------  ----- \n",
      " 0   Provincia       4311 non-null   object\n",
      " 1   Partido         4311 non-null   object\n",
      " 2   Localidad       4311 non-null   object\n",
      " 3   ADSL            4311 non-null   object\n",
      " 4   Cablemódem      4311 non-null   object\n",
      " 5   Dial Up         4311 non-null   object\n",
      " 6   Fibra óptica    4311 non-null   object\n",
      " 7   4G              4311 non-null   object\n",
      " 8   3G              4311 non-null   object\n",
      " 9   Telefonía Fija  4311 non-null   object\n",
      " 10  Wireless        4311 non-null   object\n",
      " 11  Satelital       4311 non-null   object\n",
      "dtypes: object(12)\n",
      "memory usage: 404.3+ KB\n"
     ]
    }
   ],
   "source": [
    "df_tipo_conexion.info()"
   ]
  },
  {
   "cell_type": "code",
   "execution_count": 780,
   "metadata": {},
   "outputs": [
    {
     "data": {
      "text/html": [
       "<div>\n",
       "<style scoped>\n",
       "    .dataframe tbody tr th:only-of-type {\n",
       "        vertical-align: middle;\n",
       "    }\n",
       "\n",
       "    .dataframe tbody tr th {\n",
       "        vertical-align: top;\n",
       "    }\n",
       "\n",
       "    .dataframe thead th {\n",
       "        text-align: right;\n",
       "    }\n",
       "</style>\n",
       "<table border=\"1\" class=\"dataframe\">\n",
       "  <thead>\n",
       "    <tr style=\"text-align: right;\">\n",
       "      <th></th>\n",
       "      <th>Provincia</th>\n",
       "      <th>Partido</th>\n",
       "      <th>Localidad</th>\n",
       "      <th>ADSL</th>\n",
       "      <th>Cablemódem</th>\n",
       "      <th>Dial Up</th>\n",
       "      <th>Fibra óptica</th>\n",
       "      <th>4G</th>\n",
       "      <th>3G</th>\n",
       "      <th>Telefonía Fija</th>\n",
       "      <th>Wireless</th>\n",
       "      <th>Satelital</th>\n",
       "    </tr>\n",
       "  </thead>\n",
       "  <tbody>\n",
       "    <tr>\n",
       "      <th>count</th>\n",
       "      <td>4311</td>\n",
       "      <td>4311</td>\n",
       "      <td>4311</td>\n",
       "      <td>4311</td>\n",
       "      <td>4311</td>\n",
       "      <td>4311</td>\n",
       "      <td>4311</td>\n",
       "      <td>4311</td>\n",
       "      <td>4311</td>\n",
       "      <td>4311</td>\n",
       "      <td>4311</td>\n",
       "      <td>4311</td>\n",
       "    </tr>\n",
       "    <tr>\n",
       "      <th>unique</th>\n",
       "      <td>24</td>\n",
       "      <td>444</td>\n",
       "      <td>3912</td>\n",
       "      <td>2</td>\n",
       "      <td>2</td>\n",
       "      <td>2</td>\n",
       "      <td>2</td>\n",
       "      <td>2</td>\n",
       "      <td>2</td>\n",
       "      <td>2</td>\n",
       "      <td>2</td>\n",
       "      <td>2</td>\n",
       "    </tr>\n",
       "    <tr>\n",
       "      <th>top</th>\n",
       "      <td>BUENOS AIRES</td>\n",
       "      <td>General Roca</td>\n",
       "      <td>San Pedro</td>\n",
       "      <td>--</td>\n",
       "      <td>--</td>\n",
       "      <td>--</td>\n",
       "      <td>--</td>\n",
       "      <td>SI</td>\n",
       "      <td>--</td>\n",
       "      <td>SI</td>\n",
       "      <td>SI</td>\n",
       "      <td>--</td>\n",
       "    </tr>\n",
       "    <tr>\n",
       "      <th>freq</th>\n",
       "      <td>901</td>\n",
       "      <td>84</td>\n",
       "      <td>12</td>\n",
       "      <td>3182</td>\n",
       "      <td>3448</td>\n",
       "      <td>3908</td>\n",
       "      <td>2784</td>\n",
       "      <td>2574</td>\n",
       "      <td>2431</td>\n",
       "      <td>2243</td>\n",
       "      <td>2224</td>\n",
       "      <td>3248</td>\n",
       "    </tr>\n",
       "  </tbody>\n",
       "</table>\n",
       "</div>"
      ],
      "text/plain": [
       "           Provincia       Partido  Localidad  ADSL Cablemódem Dial Up  \\\n",
       "count           4311          4311       4311  4311       4311    4311   \n",
       "unique            24           444       3912     2          2       2   \n",
       "top     BUENOS AIRES  General Roca  San Pedro    --         --      --   \n",
       "freq             901            84         12  3182       3448    3908   \n",
       "\n",
       "       Fibra óptica    4G    3G Telefonía Fija Wireless Satelital  \n",
       "count          4311  4311  4311           4311     4311      4311  \n",
       "unique            2     2     2              2        2         2  \n",
       "top              --    SI    --             SI       SI        --  \n",
       "freq           2784  2574  2431           2243     2224      3248  "
      ]
     },
     "execution_count": 780,
     "metadata": {},
     "output_type": "execute_result"
    }
   ],
   "source": [
    "df_tipo_conexion.describe()"
   ]
  },
  {
   "cell_type": "code",
   "execution_count": 781,
   "metadata": {},
   "outputs": [
    {
     "data": {
      "text/plain": [
       "array(['BUENOS AIRES', 'MENDOZA', 'CABA', 'CATAMARCA', 'CORDOBA',\n",
       "       'ENTRE RIOS', 'SALTA', 'SANTA CRUZ', 'SANTA FE', 'CHACO',\n",
       "       'FORMOSA', 'MISIONES', 'SAN JUAN', 'CHUBUT', 'JUJUY', 'NEUQUEN',\n",
       "       'CORRIENTES', 'RIO NEGRO', 'LA PAMPA', 'SANTIAGO DEL ESTERO',\n",
       "       'TUCUMAN', 'LA RIOJA', 'SAN LUIS', 'TIERRA DEL FUEGO'],\n",
       "      dtype=object)"
      ]
     },
     "execution_count": 781,
     "metadata": {},
     "output_type": "execute_result"
    }
   ],
   "source": [
    "df_tipo_conexion['Provincia'].unique()"
   ]
  },
  {
   "cell_type": "markdown",
   "metadata": {},
   "source": [
    "# Historico acceso a banda ancha y angosta"
   ]
  },
  {
   "cell_type": "code",
   "execution_count": 782,
   "metadata": {},
   "outputs": [],
   "source": [
    "df_acc_banda_ancha_angosta = pd.read_csv('Datasets\\Internet_Accesos-por-velocidad2.csv')"
   ]
  },
  {
   "cell_type": "code",
   "execution_count": 783,
   "metadata": {},
   "outputs": [
    {
     "data": {
      "text/html": [
       "<div>\n",
       "<style scoped>\n",
       "    .dataframe tbody tr th:only-of-type {\n",
       "        vertical-align: middle;\n",
       "    }\n",
       "\n",
       "    .dataframe tbody tr th {\n",
       "        vertical-align: top;\n",
       "    }\n",
       "\n",
       "    .dataframe thead th {\n",
       "        text-align: right;\n",
       "    }\n",
       "</style>\n",
       "<table border=\"1\" class=\"dataframe\">\n",
       "  <thead>\n",
       "    <tr style=\"text-align: right;\">\n",
       "      <th></th>\n",
       "      <th>Año</th>\n",
       "      <th>Trimestre</th>\n",
       "      <th>Hasta 512 kbps</th>\n",
       "      <th>Entre 512 Kbps y 1 Mbps</th>\n",
       "      <th>Entre 1 Mbps y 6 Mbps</th>\n",
       "      <th>Entre 6 Mbps y 10 Mbps</th>\n",
       "      <th>Entre 10 Mbps y 20 Mbps</th>\n",
       "      <th>Entre 20 Mbps y 30 Mbps</th>\n",
       "      <th>Más de 30 Mbps</th>\n",
       "      <th>OTROS</th>\n",
       "      <th>Total</th>\n",
       "      <th>Unnamed: 11</th>\n",
       "    </tr>\n",
       "  </thead>\n",
       "  <tbody>\n",
       "    <tr>\n",
       "      <th>0</th>\n",
       "      <td>2022</td>\n",
       "      <td>3</td>\n",
       "      <td>33.013</td>\n",
       "      <td>96.727</td>\n",
       "      <td>1.161.370</td>\n",
       "      <td>1.151.906</td>\n",
       "      <td>823.505</td>\n",
       "      <td>479.822</td>\n",
       "      <td>6.995.750</td>\n",
       "      <td>349.035</td>\n",
       "      <td>11.091.128</td>\n",
       "      <td>NaN</td>\n",
       "    </tr>\n",
       "    <tr>\n",
       "      <th>1</th>\n",
       "      <td>2022</td>\n",
       "      <td>2</td>\n",
       "      <td>33.667</td>\n",
       "      <td>99.498</td>\n",
       "      <td>1.193.090</td>\n",
       "      <td>1.197.030</td>\n",
       "      <td>856.562</td>\n",
       "      <td>485.321</td>\n",
       "      <td>6.741.922</td>\n",
       "      <td>351.594</td>\n",
       "      <td>10.958.684</td>\n",
       "      <td>NaN</td>\n",
       "    </tr>\n",
       "    <tr>\n",
       "      <th>2</th>\n",
       "      <td>2022</td>\n",
       "      <td>1</td>\n",
       "      <td>34.890</td>\n",
       "      <td>104.840</td>\n",
       "      <td>1.263.273</td>\n",
       "      <td>1.209.148</td>\n",
       "      <td>967.508</td>\n",
       "      <td>509.830</td>\n",
       "      <td>6.336.187</td>\n",
       "      <td>198.333</td>\n",
       "      <td>10.624.009</td>\n",
       "      <td>NaN</td>\n",
       "    </tr>\n",
       "    <tr>\n",
       "      <th>3</th>\n",
       "      <td>2021</td>\n",
       "      <td>4</td>\n",
       "      <td>41.262</td>\n",
       "      <td>28.521</td>\n",
       "      <td>1.413.208</td>\n",
       "      <td>1.245.333</td>\n",
       "      <td>976.539</td>\n",
       "      <td>558.358</td>\n",
       "      <td>6.032.322</td>\n",
       "      <td>194.251</td>\n",
       "      <td>10.489.794</td>\n",
       "      <td>NaN</td>\n",
       "    </tr>\n",
       "    <tr>\n",
       "      <th>4</th>\n",
       "      <td>2021</td>\n",
       "      <td>3</td>\n",
       "      <td>40.174</td>\n",
       "      <td>41.437</td>\n",
       "      <td>2.550.229</td>\n",
       "      <td>1.095.772</td>\n",
       "      <td>710.122</td>\n",
       "      <td>536.364</td>\n",
       "      <td>4.948.174</td>\n",
       "      <td>163.269</td>\n",
       "      <td>10.085.541</td>\n",
       "      <td>NaN</td>\n",
       "    </tr>\n",
       "  </tbody>\n",
       "</table>\n",
       "</div>"
      ],
      "text/plain": [
       "    Año  Trimestre  Hasta 512 kbps  Entre 512 Kbps y 1 Mbps  \\\n",
       "0  2022          3          33.013                   96.727   \n",
       "1  2022          2          33.667                   99.498   \n",
       "2  2022          1          34.890                  104.840   \n",
       "3  2021          4          41.262                   28.521   \n",
       "4  2021          3          40.174                   41.437   \n",
       "\n",
       "  Entre 1 Mbps y 6 Mbps Entre 6 Mbps y 10 Mbps Entre 10 Mbps y 20 Mbps  \\\n",
       "0             1.161.370              1.151.906                 823.505   \n",
       "1             1.193.090              1.197.030                 856.562   \n",
       "2             1.263.273              1.209.148                 967.508   \n",
       "3             1.413.208              1.245.333                 976.539   \n",
       "4             2.550.229              1.095.772                 710.122   \n",
       "\n",
       "  Entre 20 Mbps y 30 Mbps Más de 30 Mbps    OTROS       Total  Unnamed: 11  \n",
       "0                 479.822      6.995.750  349.035  11.091.128          NaN  \n",
       "1                 485.321      6.741.922  351.594  10.958.684          NaN  \n",
       "2                 509.830      6.336.187  198.333  10.624.009          NaN  \n",
       "3                 558.358      6.032.322  194.251  10.489.794          NaN  \n",
       "4                 536.364      4.948.174  163.269  10.085.541          NaN  "
      ]
     },
     "execution_count": 783,
     "metadata": {},
     "output_type": "execute_result"
    }
   ],
   "source": [
    "df_acc_banda_ancha_angosta.head(5)"
   ]
  },
  {
   "cell_type": "code",
   "execution_count": 784,
   "metadata": {},
   "outputs": [
    {
     "name": "stdout",
     "output_type": "stream",
     "text": [
      "<class 'pandas.core.frame.DataFrame'>\n",
      "RangeIndex: 35 entries, 0 to 34\n",
      "Data columns (total 12 columns):\n",
      " #   Column                   Non-Null Count  Dtype  \n",
      "---  ------                   --------------  -----  \n",
      " 0   Año                      35 non-null     int64  \n",
      " 1   Trimestre                35 non-null     int64  \n",
      " 2   Hasta 512 kbps           35 non-null     float64\n",
      " 3   Entre 512 Kbps y 1 Mbps  35 non-null     float64\n",
      " 4   Entre 1 Mbps y 6 Mbps    35 non-null     object \n",
      " 5   Entre 6 Mbps y 10 Mbps   35 non-null     object \n",
      " 6   Entre 10 Mbps y 20 Mbps  35 non-null     object \n",
      " 7   Entre 20 Mbps y 30 Mbps  35 non-null     object \n",
      " 8   Más de 30 Mbps           35 non-null     object \n",
      " 9   OTROS                    35 non-null     float64\n",
      " 10  Total                    35 non-null     object \n",
      " 11  Unnamed: 11              0 non-null      float64\n",
      "dtypes: float64(4), int64(2), object(6)\n",
      "memory usage: 3.4+ KB\n"
     ]
    }
   ],
   "source": [
    "df_acc_banda_ancha_angosta.info()"
   ]
  },
  {
   "cell_type": "markdown",
   "metadata": {},
   "source": [
    "### Eliminamos la columna Unnamed 11:"
   ]
  },
  {
   "cell_type": "code",
   "execution_count": 785,
   "metadata": {},
   "outputs": [],
   "source": [
    "#Eliminamos la columna Unnamed: 11, que no tiene título ni datos\n",
    "df_acc_banda_ancha_angosta.drop(columns= [\"Unnamed: 11\"], inplace=True)"
   ]
  },
  {
   "cell_type": "markdown",
   "metadata": {},
   "source": [
    "### Guardamos los datos en un archivo csv"
   ]
  },
  {
   "cell_type": "code",
   "execution_count": 786,
   "metadata": {},
   "outputs": [],
   "source": [
    "df_acc_banda_ancha_angosta.to_csv('Datasets_normalizados\\Internet_Accesos-por-velocidad2.csv', index=False)"
   ]
  },
  {
   "cell_type": "markdown",
   "metadata": {},
   "source": [
    "# Historico velocidad por provincia"
   ]
  },
  {
   "cell_type": "code",
   "execution_count": 798,
   "metadata": {},
   "outputs": [],
   "source": [
    "df_historico_velocidad_provincia = pd.read_csv('Datasets\\historico_velocidad_internet (2).csv')"
   ]
  },
  {
   "cell_type": "code",
   "execution_count": 799,
   "metadata": {},
   "outputs": [
    {
     "data": {
      "text/html": [
       "<div>\n",
       "<style scoped>\n",
       "    .dataframe tbody tr th:only-of-type {\n",
       "        vertical-align: middle;\n",
       "    }\n",
       "\n",
       "    .dataframe tbody tr th {\n",
       "        vertical-align: top;\n",
       "    }\n",
       "\n",
       "    .dataframe thead th {\n",
       "        text-align: right;\n",
       "    }\n",
       "</style>\n",
       "<table border=\"1\" class=\"dataframe\">\n",
       "  <thead>\n",
       "    <tr style=\"text-align: right;\">\n",
       "      <th></th>\n",
       "      <th>Año</th>\n",
       "      <th>Trimestre</th>\n",
       "      <th>Provincia</th>\n",
       "      <th>Mbps (Media de bajada)</th>\n",
       "      <th>Unnamed: 4</th>\n",
       "      <th>Unnamed: 5</th>\n",
       "    </tr>\n",
       "  </thead>\n",
       "  <tbody>\n",
       "    <tr>\n",
       "      <th>0</th>\n",
       "      <td>2022</td>\n",
       "      <td>3</td>\n",
       "      <td>Buenos Aires</td>\n",
       "      <td>70</td>\n",
       "      <td>NaN</td>\n",
       "      <td>NaN</td>\n",
       "    </tr>\n",
       "    <tr>\n",
       "      <th>1</th>\n",
       "      <td>2022</td>\n",
       "      <td>3</td>\n",
       "      <td>Capital Federal</td>\n",
       "      <td>101</td>\n",
       "      <td>NaN</td>\n",
       "      <td>NaN</td>\n",
       "    </tr>\n",
       "    <tr>\n",
       "      <th>2</th>\n",
       "      <td>2022</td>\n",
       "      <td>3</td>\n",
       "      <td>Catamarca</td>\n",
       "      <td>61</td>\n",
       "      <td>NaN</td>\n",
       "      <td>NaN</td>\n",
       "    </tr>\n",
       "  </tbody>\n",
       "</table>\n",
       "</div>"
      ],
      "text/plain": [
       "    Año  Trimestre        Provincia  Mbps (Media de bajada)  Unnamed: 4  \\\n",
       "0  2022          3     Buenos Aires                      70         NaN   \n",
       "1  2022          3  Capital Federal                     101         NaN   \n",
       "2  2022          3        Catamarca                      61         NaN   \n",
       "\n",
       "   Unnamed: 5  \n",
       "0         NaN  \n",
       "1         NaN  \n",
       "2         NaN  "
      ]
     },
     "execution_count": 799,
     "metadata": {},
     "output_type": "execute_result"
    }
   ],
   "source": [
    "df_historico_velocidad_provincia.head(3)"
   ]
  },
  {
   "cell_type": "code",
   "execution_count": 800,
   "metadata": {},
   "outputs": [
    {
     "name": "stdout",
     "output_type": "stream",
     "text": [
      "<class 'pandas.core.frame.DataFrame'>\n",
      "RangeIndex: 840 entries, 0 to 839\n",
      "Data columns (total 6 columns):\n",
      " #   Column                  Non-Null Count  Dtype  \n",
      "---  ------                  --------------  -----  \n",
      " 0   Año                     840 non-null    int64  \n",
      " 1   Trimestre               840 non-null    int64  \n",
      " 2   Provincia               840 non-null    object \n",
      " 3   Mbps (Media de bajada)  840 non-null    int64  \n",
      " 4   Unnamed: 4              0 non-null      float64\n",
      " 5   Unnamed: 5              0 non-null      float64\n",
      "dtypes: float64(2), int64(3), object(1)\n",
      "memory usage: 39.5+ KB\n"
     ]
    }
   ],
   "source": [
    "df_historico_velocidad_provincia.info()"
   ]
  },
  {
   "cell_type": "markdown",
   "metadata": {},
   "source": [
    "### Eliminamos columnas sin titulos ni informacion"
   ]
  },
  {
   "cell_type": "code",
   "execution_count": 789,
   "metadata": {},
   "outputs": [],
   "source": [
    "df_historico_velocidad_provincia.drop(columns= ['Unnamed: 4', 'Unnamed: 5'], inplace=True)"
   ]
  },
  {
   "cell_type": "code",
   "execution_count": 790,
   "metadata": {},
   "outputs": [
    {
     "data": {
      "text/html": [
       "<div>\n",
       "<style scoped>\n",
       "    .dataframe tbody tr th:only-of-type {\n",
       "        vertical-align: middle;\n",
       "    }\n",
       "\n",
       "    .dataframe tbody tr th {\n",
       "        vertical-align: top;\n",
       "    }\n",
       "\n",
       "    .dataframe thead th {\n",
       "        text-align: right;\n",
       "    }\n",
       "</style>\n",
       "<table border=\"1\" class=\"dataframe\">\n",
       "  <thead>\n",
       "    <tr style=\"text-align: right;\">\n",
       "      <th></th>\n",
       "      <th>Año</th>\n",
       "      <th>Trimestre</th>\n",
       "      <th>Provincia</th>\n",
       "      <th>Mbps (Media de bajada)</th>\n",
       "    </tr>\n",
       "  </thead>\n",
       "  <tbody>\n",
       "    <tr>\n",
       "      <th>0</th>\n",
       "      <td>2022</td>\n",
       "      <td>3</td>\n",
       "      <td>Buenos Aires</td>\n",
       "      <td>70</td>\n",
       "    </tr>\n",
       "    <tr>\n",
       "      <th>1</th>\n",
       "      <td>2022</td>\n",
       "      <td>3</td>\n",
       "      <td>Capital Federal</td>\n",
       "      <td>101</td>\n",
       "    </tr>\n",
       "    <tr>\n",
       "      <th>2</th>\n",
       "      <td>2022</td>\n",
       "      <td>3</td>\n",
       "      <td>Catamarca</td>\n",
       "      <td>61</td>\n",
       "    </tr>\n",
       "  </tbody>\n",
       "</table>\n",
       "</div>"
      ],
      "text/plain": [
       "    Año  Trimestre        Provincia  Mbps (Media de bajada)\n",
       "0  2022          3     Buenos Aires                      70\n",
       "1  2022          3  Capital Federal                     101\n",
       "2  2022          3        Catamarca                      61"
      ]
     },
     "execution_count": 790,
     "metadata": {},
     "output_type": "execute_result"
    }
   ],
   "source": [
    "df_historico_velocidad_provincia.head(3)"
   ]
  },
  {
   "cell_type": "markdown",
   "metadata": {},
   "source": [
    "### Guardamos los datos en un archivo csv"
   ]
  },
  {
   "cell_type": "code",
   "execution_count": 791,
   "metadata": {},
   "outputs": [],
   "source": [
    "df_historico_velocidad_provincia.to_csv('Datasets_normalizados\\historico_velocidad_internet (2).csv', index=False)"
   ]
  },
  {
   "cell_type": "markdown",
   "metadata": {},
   "source": [
    "# Accesos a Internet fijo por velocidad bajada y provincia"
   ]
  },
  {
   "cell_type": "code",
   "execution_count": 792,
   "metadata": {},
   "outputs": [],
   "source": [
    "internet_fijo_veloc_bajada_prov = pd.read_csv('Datasets\\AccesosaInternetfijoporvelocidadbajadayprovincia.csv')"
   ]
  },
  {
   "cell_type": "code",
   "execution_count": 793,
   "metadata": {},
   "outputs": [
    {
     "data": {
      "text/html": [
       "<div>\n",
       "<style scoped>\n",
       "    .dataframe tbody tr th:only-of-type {\n",
       "        vertical-align: middle;\n",
       "    }\n",
       "\n",
       "    .dataframe tbody tr th {\n",
       "        vertical-align: top;\n",
       "    }\n",
       "\n",
       "    .dataframe thead th {\n",
       "        text-align: right;\n",
       "    }\n",
       "</style>\n",
       "<table border=\"1\" class=\"dataframe\">\n",
       "  <thead>\n",
       "    <tr style=\"text-align: right;\">\n",
       "      <th></th>\n",
       "      <th>Año</th>\n",
       "      <th>Trimestre</th>\n",
       "      <th>Provincia</th>\n",
       "      <th>Otros</th>\n",
       "      <th>0,256 Mbps</th>\n",
       "      <th>0,375 Mbps</th>\n",
       "      <th>0,625 Mbps</th>\n",
       "      <th>0,5 Mbps</th>\n",
       "      <th>0,512 Mbps</th>\n",
       "      <th>0,75 Mbps</th>\n",
       "      <th>...</th>\n",
       "      <th>70 Mbps</th>\n",
       "      <th>71 Mbps</th>\n",
       "      <th>75 Mbps</th>\n",
       "      <th>77 Mbps</th>\n",
       "      <th>78 Mbps</th>\n",
       "      <th>80 Mbps</th>\n",
       "      <th>81 Mbps</th>\n",
       "      <th>83 Mbps</th>\n",
       "      <th>82 Mbps</th>\n",
       "      <th>86 Mbps</th>\n",
       "    </tr>\n",
       "  </thead>\n",
       "  <tbody>\n",
       "    <tr>\n",
       "      <th>0</th>\n",
       "      <td>2022.0</td>\n",
       "      <td>3.0</td>\n",
       "      <td>Buenos Aires</td>\n",
       "      <td>65,821</td>\n",
       "      <td>19</td>\n",
       "      <td>- 0</td>\n",
       "      <td>- 0</td>\n",
       "      <td>29,774</td>\n",
       "      <td>192</td>\n",
       "      <td>4,611</td>\n",
       "      <td>...</td>\n",
       "      <td>3,163</td>\n",
       "      <td>- 0</td>\n",
       "      <td>98,387</td>\n",
       "      <td>- 0</td>\n",
       "      <td>2</td>\n",
       "      <td>223</td>\n",
       "      <td>- 0</td>\n",
       "      <td>1</td>\n",
       "      <td>- 0</td>\n",
       "      <td>- 0</td>\n",
       "    </tr>\n",
       "    <tr>\n",
       "      <th>1</th>\n",
       "      <td>2022.0</td>\n",
       "      <td>3.0</td>\n",
       "      <td>Capital Federal</td>\n",
       "      <td>105,477</td>\n",
       "      <td>31</td>\n",
       "      <td>- 0</td>\n",
       "      <td>- 0</td>\n",
       "      <td>451</td>\n",
       "      <td>35</td>\n",
       "      <td>1,307</td>\n",
       "      <td>...</td>\n",
       "      <td>3</td>\n",
       "      <td>- 0</td>\n",
       "      <td>30,482</td>\n",
       "      <td>- 0</td>\n",
       "      <td>- 0</td>\n",
       "      <td>8</td>\n",
       "      <td>- 0</td>\n",
       "      <td>- 0</td>\n",
       "      <td>- 0</td>\n",
       "      <td>- 0</td>\n",
       "    </tr>\n",
       "    <tr>\n",
       "      <th>2</th>\n",
       "      <td>2022.0</td>\n",
       "      <td>3.0</td>\n",
       "      <td>Catamarca</td>\n",
       "      <td>2,208</td>\n",
       "      <td>- 0</td>\n",
       "      <td>- 0</td>\n",
       "      <td>- 0</td>\n",
       "      <td>34</td>\n",
       "      <td>37</td>\n",
       "      <td>- 0</td>\n",
       "      <td>...</td>\n",
       "      <td>- 0</td>\n",
       "      <td>- 0</td>\n",
       "      <td>- 0</td>\n",
       "      <td>- 0</td>\n",
       "      <td>- 0</td>\n",
       "      <td>- 0</td>\n",
       "      <td>- 0</td>\n",
       "      <td>- 0</td>\n",
       "      <td>- 0</td>\n",
       "      <td>- 0</td>\n",
       "    </tr>\n",
       "    <tr>\n",
       "      <th>3</th>\n",
       "      <td>2022.0</td>\n",
       "      <td>3.0</td>\n",
       "      <td>Chaco</td>\n",
       "      <td>3,711</td>\n",
       "      <td>- 0</td>\n",
       "      <td>225</td>\n",
       "      <td>111</td>\n",
       "      <td>234</td>\n",
       "      <td>2</td>\n",
       "      <td>- 0</td>\n",
       "      <td>...</td>\n",
       "      <td>- 0</td>\n",
       "      <td>- 0</td>\n",
       "      <td>- 0</td>\n",
       "      <td>- 0</td>\n",
       "      <td>- 0</td>\n",
       "      <td>- 0</td>\n",
       "      <td>- 0</td>\n",
       "      <td>- 0</td>\n",
       "      <td>- 0</td>\n",
       "      <td>- 0</td>\n",
       "    </tr>\n",
       "    <tr>\n",
       "      <th>4</th>\n",
       "      <td>2022.0</td>\n",
       "      <td>3.0</td>\n",
       "      <td>Chubut</td>\n",
       "      <td>20,024</td>\n",
       "      <td>8</td>\n",
       "      <td>- 0</td>\n",
       "      <td>- 0</td>\n",
       "      <td>69</td>\n",
       "      <td>32</td>\n",
       "      <td>836</td>\n",
       "      <td>...</td>\n",
       "      <td>- 0</td>\n",
       "      <td>- 0</td>\n",
       "      <td>- 0</td>\n",
       "      <td>- 0</td>\n",
       "      <td>- 0</td>\n",
       "      <td>- 0</td>\n",
       "      <td>- 0</td>\n",
       "      <td>- 0</td>\n",
       "      <td>- 0</td>\n",
       "      <td>- 0</td>\n",
       "    </tr>\n",
       "  </tbody>\n",
       "</table>\n",
       "<p>5 rows × 97 columns</p>\n",
       "</div>"
      ],
      "text/plain": [
       "      Año  Trimestre        Provincia    Otros 0,256 Mbps 0,375 Mbps  \\\n",
       "0  2022.0        3.0     Buenos Aires   65,821         19        - 0   \n",
       "1  2022.0        3.0  Capital Federal  105,477         31        - 0   \n",
       "2  2022.0        3.0        Catamarca    2,208        - 0        - 0   \n",
       "3  2022.0        3.0            Chaco    3,711        - 0        225   \n",
       "4  2022.0        3.0           Chubut   20,024          8        - 0   \n",
       "\n",
       "  0,625 Mbps 0,5 Mbps 0,512 Mbps 0,75 Mbps  ... 70 Mbps 71 Mbps 75 Mbps  \\\n",
       "0        - 0   29,774        192     4,611  ...   3,163     - 0  98,387   \n",
       "1        - 0      451         35     1,307  ...       3     - 0  30,482   \n",
       "2        - 0       34         37       - 0  ...     - 0     - 0     - 0   \n",
       "3        111      234          2       - 0  ...     - 0     - 0     - 0   \n",
       "4        - 0       69         32       836  ...     - 0     - 0     - 0   \n",
       "\n",
       "  77 Mbps 78 Mbps 80 Mbps 81 Mbps 83 Mbps 82 Mbps 86 Mbps  \n",
       "0     - 0       2     223     - 0       1     - 0     - 0  \n",
       "1     - 0     - 0       8     - 0     - 0     - 0     - 0  \n",
       "2     - 0     - 0     - 0     - 0     - 0     - 0     - 0  \n",
       "3     - 0     - 0     - 0     - 0     - 0     - 0     - 0  \n",
       "4     - 0     - 0     - 0     - 0     - 0     - 0     - 0  \n",
       "\n",
       "[5 rows x 97 columns]"
      ]
     },
     "execution_count": 793,
     "metadata": {},
     "output_type": "execute_result"
    }
   ],
   "source": [
    "internet_fijo_veloc_bajada_prov.head()"
   ]
  },
  {
   "cell_type": "code",
   "execution_count": 794,
   "metadata": {},
   "outputs": [
    {
     "name": "stdout",
     "output_type": "stream",
     "text": [
      "<class 'pandas.core.frame.DataFrame'>\n",
      "RangeIndex: 481 entries, 0 to 480\n",
      "Data columns (total 97 columns):\n",
      " #   Column      Non-Null Count  Dtype  \n",
      "---  ------      --------------  -----  \n",
      " 0   Año         480 non-null    float64\n",
      " 1   Trimestre   480 non-null    float64\n",
      " 2   Provincia   480 non-null    object \n",
      " 3   Otros       480 non-null    object \n",
      " 4   0,256 Mbps  480 non-null    object \n",
      " 5   0,375 Mbps  480 non-null    object \n",
      " 6   0,625 Mbps  480 non-null    object \n",
      " 7   0,5 Mbps    480 non-null    object \n",
      " 8   0,512 Mbps  480 non-null    object \n",
      " 9   0,75 Mbps   480 non-null    object \n",
      " 10  1 Mbps      480 non-null    object \n",
      " 11  1,2 Mbps    480 non-null    object \n",
      " 12  1,25 Mbps   480 non-null    object \n",
      " 13  1,5 Mbps    480 non-null    object \n",
      " 14  2 Mbps      480 non-null    object \n",
      " 15  2,2 Mbps    480 non-null    object \n",
      " 16  2,5 Mbps    481 non-null    object \n",
      " 17  6,7 Mbps    480 non-null    object \n",
      " 18  3 Mbps      480 non-null    object \n",
      " 19  3,2 Mbps    480 non-null    object \n",
      " 20  3,3 Mbps    480 non-null    object \n",
      " 21  3,5 Mbps    480 non-null    object \n",
      " 22  4 Mbps      480 non-null    object \n",
      " 23  4,5 Mbps    480 non-null    object \n",
      " 24  5 Mbps      480 non-null    object \n",
      " 25  6 Mbps      480 non-null    object \n",
      " 26  6,4 Mbps    480 non-null    object \n",
      " 27  7 Mbps      480 non-null    object \n",
      " 28  7,5 Mbps    480 non-null    object \n",
      " 29  8 Mbps      480 non-null    object \n",
      " 30  9 Mbps      480 non-null    object \n",
      " 31  10 Mbps     480 non-null    object \n",
      " 32  10,6 Mbps   480 non-null    object \n",
      " 33  11 Mbps     480 non-null    object \n",
      " 34  12 Mbps     480 non-null    object \n",
      " 35  13 Mbps     480 non-null    object \n",
      " 36  14 Mbps     480 non-null    object \n",
      " 37  15 Mbps     480 non-null    object \n",
      " 38  16 Mbps     480 non-null    object \n",
      " 39  17 Mbps     480 non-null    object \n",
      " 40  18 Mbps     480 non-null    object \n",
      " 41  19 Mbps     480 non-null    object \n",
      " 42  20 Mbps     480 non-null    object \n",
      " 43  21 Mbps     480 non-null    object \n",
      " 44  22 Mbps     480 non-null    object \n",
      " 45  23 Mbps     480 non-null    object \n",
      " 46  24 Mbps     480 non-null    object \n",
      " 47  25 Mbps     480 non-null    object \n",
      " 48  25,1 Mbps   480 non-null    object \n",
      " 49  25,11 Mbps  480 non-null    object \n",
      " 50  25,5 Mbps   480 non-null    object \n",
      " 51  26 Mbps     480 non-null    object \n",
      " 52  28 Mbps     480 non-null    object \n",
      " 53  29 Mbps     480 non-null    object \n",
      " 54  30 Mbps     480 non-null    object \n",
      " 55  31 Mbps     480 non-null    object \n",
      " 56  32 Mbps     480 non-null    object \n",
      " 57  34 Mbps     480 non-null    object \n",
      " 58  35 Mbps     480 non-null    object \n",
      " 59  36 Mbps     480 non-null    object \n",
      " 60  37 Mbps     480 non-null    object \n",
      " 61  38 Mbps     480 non-null    object \n",
      " 62  39 Mbps     480 non-null    object \n",
      " 63  40 Mbps     480 non-null    object \n",
      " 64  41 Mbps     480 non-null    object \n",
      " 65  45 Mbps     480 non-null    object \n",
      " 66  46 Mbps     480 non-null    object \n",
      " 67  47 Mbps     480 non-null    object \n",
      " 68  48 Mbps     480 non-null    object \n",
      " 69  49 Mbps     480 non-null    object \n",
      " 70  50 Mbps     480 non-null    object \n",
      " 71  51 Mbps     480 non-null    object \n",
      " 72  52 Mbps     480 non-null    object \n",
      " 73  54 Mbps     480 non-null    object \n",
      " 74  55 Mbps     480 non-null    object \n",
      " 75  56 Mbps     480 non-null    object \n",
      " 76  58 Mbps     480 non-null    object \n",
      " 77  59 Mbps     480 non-null    object \n",
      " 78  60 Mbps     480 non-null    object \n",
      " 79  61 Mbps     480 non-null    object \n",
      " 80  62 Mbps     480 non-null    object \n",
      " 81  63 Mbps     480 non-null    object \n",
      " 82  64 Mbps     480 non-null    object \n",
      " 83  65 Mbps     480 non-null    object \n",
      " 84  66 Mbps     480 non-null    object \n",
      " 85  67 Mbps     480 non-null    object \n",
      " 86  68 Mbps     480 non-null    object \n",
      " 87  70 Mbps     480 non-null    object \n",
      " 88  71 Mbps     480 non-null    object \n",
      " 89  75 Mbps     480 non-null    object \n",
      " 90  77 Mbps     480 non-null    object \n",
      " 91  78 Mbps     480 non-null    object \n",
      " 92  80 Mbps     480 non-null    object \n",
      " 93  81 Mbps     480 non-null    object \n",
      " 94  83 Mbps     480 non-null    object \n",
      " 95  82 Mbps     480 non-null    object \n",
      " 96  86 Mbps     480 non-null    object \n",
      "dtypes: float64(2), object(95)\n",
      "memory usage: 364.6+ KB\n"
     ]
    }
   ],
   "source": [
    "internet_fijo_veloc_bajada_prov.info()"
   ]
  },
  {
   "cell_type": "code",
   "execution_count": 796,
   "metadata": {},
   "outputs": [
    {
     "data": {
      "text/html": [
       "<div>\n",
       "<style scoped>\n",
       "    .dataframe tbody tr th:only-of-type {\n",
       "        vertical-align: middle;\n",
       "    }\n",
       "\n",
       "    .dataframe tbody tr th {\n",
       "        vertical-align: top;\n",
       "    }\n",
       "\n",
       "    .dataframe thead th {\n",
       "        text-align: right;\n",
       "    }\n",
       "</style>\n",
       "<table border=\"1\" class=\"dataframe\">\n",
       "  <thead>\n",
       "    <tr style=\"text-align: right;\">\n",
       "      <th></th>\n",
       "      <th>Año</th>\n",
       "      <th>Trimestre</th>\n",
       "    </tr>\n",
       "  </thead>\n",
       "  <tbody>\n",
       "    <tr>\n",
       "      <th>count</th>\n",
       "      <td>480.000000</td>\n",
       "      <td>480.0000</td>\n",
       "    </tr>\n",
       "    <tr>\n",
       "      <th>mean</th>\n",
       "      <td>2019.750000</td>\n",
       "      <td>2.5000</td>\n",
       "    </tr>\n",
       "    <tr>\n",
       "      <th>std</th>\n",
       "      <td>1.480563</td>\n",
       "      <td>1.1192</td>\n",
       "    </tr>\n",
       "    <tr>\n",
       "      <th>min</th>\n",
       "      <td>2017.000000</td>\n",
       "      <td>1.0000</td>\n",
       "    </tr>\n",
       "    <tr>\n",
       "      <th>25%</th>\n",
       "      <td>2018.750000</td>\n",
       "      <td>1.7500</td>\n",
       "    </tr>\n",
       "    <tr>\n",
       "      <th>50%</th>\n",
       "      <td>2020.000000</td>\n",
       "      <td>2.5000</td>\n",
       "    </tr>\n",
       "    <tr>\n",
       "      <th>75%</th>\n",
       "      <td>2021.000000</td>\n",
       "      <td>3.2500</td>\n",
       "    </tr>\n",
       "    <tr>\n",
       "      <th>max</th>\n",
       "      <td>2022.000000</td>\n",
       "      <td>4.0000</td>\n",
       "    </tr>\n",
       "  </tbody>\n",
       "</table>\n",
       "</div>"
      ],
      "text/plain": [
       "               Año  Trimestre\n",
       "count   480.000000   480.0000\n",
       "mean   2019.750000     2.5000\n",
       "std       1.480563     1.1192\n",
       "min    2017.000000     1.0000\n",
       "25%    2018.750000     1.7500\n",
       "50%    2020.000000     2.5000\n",
       "75%    2021.000000     3.2500\n",
       "max    2022.000000     4.0000"
      ]
     },
     "execution_count": 796,
     "metadata": {},
     "output_type": "execute_result"
    }
   ],
   "source": [
    "internet_fijo_veloc_bajada_prov.describe()"
   ]
  },
  {
   "cell_type": "markdown",
   "metadata": {},
   "source": [
    "# Accesos a Internet fijo por tecnología y localidad"
   ]
  },
  {
   "cell_type": "code",
   "execution_count": 11,
   "metadata": {},
   "outputs": [],
   "source": [
    "internet_fijo_tecnologia_loc = pd.read_csv('Datasets/AccesosaInternetfijoportecnologiaylocalidad_2791751690319387778.csv')"
   ]
  },
  {
   "cell_type": "code",
   "execution_count": 6,
   "metadata": {},
   "outputs": [
    {
     "data": {
      "text/html": [
       "<div>\n",
       "<style scoped>\n",
       "    .dataframe tbody tr th:only-of-type {\n",
       "        vertical-align: middle;\n",
       "    }\n",
       "\n",
       "    .dataframe tbody tr th {\n",
       "        vertical-align: top;\n",
       "    }\n",
       "\n",
       "    .dataframe thead th {\n",
       "        text-align: right;\n",
       "    }\n",
       "</style>\n",
       "<table border=\"1\" class=\"dataframe\">\n",
       "  <thead>\n",
       "    <tr style=\"text-align: right;\">\n",
       "      <th></th>\n",
       "      <th>Provincia</th>\n",
       "      <th>Partido</th>\n",
       "      <th>Localidad</th>\n",
       "      <th>Link Indec</th>\n",
       "      <th>ADSL</th>\n",
       "      <th>CABLEMODEM</th>\n",
       "      <th>DIAL UP</th>\n",
       "      <th>FIBRA OPTICA</th>\n",
       "      <th>OTROS</th>\n",
       "      <th>SATELITAL</th>\n",
       "      <th>WIMAX</th>\n",
       "      <th>WIRELESS</th>\n",
       "      <th>Total general</th>\n",
       "      <th>Unnamed: 13</th>\n",
       "    </tr>\n",
       "  </thead>\n",
       "  <tbody>\n",
       "    <tr>\n",
       "      <th>0</th>\n",
       "      <td>BUENOS AIRES</td>\n",
       "      <td>25 de Mayo</td>\n",
       "      <td>25 de Mayo</td>\n",
       "      <td>6854100</td>\n",
       "      <td>873</td>\n",
       "      <td>4.704</td>\n",
       "      <td>- 0</td>\n",
       "      <td>2</td>\n",
       "      <td>- 0</td>\n",
       "      <td>975</td>\n",
       "      <td>- 0</td>\n",
       "      <td>664</td>\n",
       "      <td>7.218</td>\n",
       "      <td>NaN</td>\n",
       "    </tr>\n",
       "    <tr>\n",
       "      <th>1</th>\n",
       "      <td>BUENOS AIRES</td>\n",
       "      <td>25 de Mayo</td>\n",
       "      <td>Del Valle</td>\n",
       "      <td>6854020</td>\n",
       "      <td>181</td>\n",
       "      <td>- 0</td>\n",
       "      <td>- 0</td>\n",
       "      <td>- 0</td>\n",
       "      <td>10</td>\n",
       "      <td>1</td>\n",
       "      <td>- 0</td>\n",
       "      <td>- 0</td>\n",
       "      <td>192</td>\n",
       "      <td>NaN</td>\n",
       "    </tr>\n",
       "    <tr>\n",
       "      <th>2</th>\n",
       "      <td>BUENOS AIRES</td>\n",
       "      <td>25 de Mayo</td>\n",
       "      <td>Gobernador Ugarte</td>\n",
       "      <td>6854040</td>\n",
       "      <td>- 0</td>\n",
       "      <td>- 0</td>\n",
       "      <td>- 0</td>\n",
       "      <td>- 0</td>\n",
       "      <td>- 0</td>\n",
       "      <td>- 0</td>\n",
       "      <td>- 0</td>\n",
       "      <td>181</td>\n",
       "      <td>181</td>\n",
       "      <td>NaN</td>\n",
       "    </tr>\n",
       "    <tr>\n",
       "      <th>3</th>\n",
       "      <td>BUENOS AIRES</td>\n",
       "      <td>25 de Mayo</td>\n",
       "      <td>Norberto de la Riestra</td>\n",
       "      <td>6854060</td>\n",
       "      <td>- 0</td>\n",
       "      <td>782</td>\n",
       "      <td>- 0</td>\n",
       "      <td>6</td>\n",
       "      <td>167</td>\n",
       "      <td>- 0</td>\n",
       "      <td>- 0</td>\n",
       "      <td>327</td>\n",
       "      <td>1.282</td>\n",
       "      <td>NaN</td>\n",
       "    </tr>\n",
       "    <tr>\n",
       "      <th>4</th>\n",
       "      <td>BUENOS AIRES</td>\n",
       "      <td>25 de Mayo</td>\n",
       "      <td>Lucas Monteverde</td>\n",
       "      <td>6854050</td>\n",
       "      <td>- 0</td>\n",
       "      <td>- 0</td>\n",
       "      <td>- 0</td>\n",
       "      <td>- 0</td>\n",
       "      <td>- 0</td>\n",
       "      <td>- 0</td>\n",
       "      <td>- 0</td>\n",
       "      <td>6</td>\n",
       "      <td>6</td>\n",
       "      <td>NaN</td>\n",
       "    </tr>\n",
       "  </tbody>\n",
       "</table>\n",
       "</div>"
      ],
      "text/plain": [
       "      Provincia     Partido               Localidad Link Indec ADSL  \\\n",
       "0  BUENOS AIRES  25 de Mayo              25 de Mayo    6854100  873   \n",
       "1  BUENOS AIRES  25 de Mayo               Del Valle    6854020  181   \n",
       "2  BUENOS AIRES  25 de Mayo       Gobernador Ugarte    6854040  - 0   \n",
       "3  BUENOS AIRES  25 de Mayo  Norberto de la Riestra    6854060  - 0   \n",
       "4  BUENOS AIRES  25 de Mayo        Lucas Monteverde    6854050  - 0   \n",
       "\n",
       "  CABLEMODEM DIAL UP FIBRA OPTICA OTROS SATELITAL WIMAX WIRELESS  \\\n",
       "0      4.704     - 0            2   - 0       975   - 0      664   \n",
       "1        - 0     - 0          - 0    10         1   - 0      - 0   \n",
       "2        - 0     - 0          - 0   - 0       - 0   - 0      181   \n",
       "3        782     - 0            6   167       - 0   - 0      327   \n",
       "4        - 0     - 0          - 0   - 0       - 0   - 0        6   \n",
       "\n",
       "  Total general  Unnamed: 13  \n",
       "0         7.218          NaN  \n",
       "1           192          NaN  \n",
       "2           181          NaN  \n",
       "3         1.282          NaN  \n",
       "4             6          NaN  "
      ]
     },
     "execution_count": 6,
     "metadata": {},
     "output_type": "execute_result"
    }
   ],
   "source": [
    "internet_fijo_tecnologia_loc.head()"
   ]
  },
  {
   "cell_type": "code",
   "execution_count": 7,
   "metadata": {},
   "outputs": [
    {
     "name": "stdout",
     "output_type": "stream",
     "text": [
      "<class 'pandas.core.frame.DataFrame'>\n",
      "RangeIndex: 3142 entries, 0 to 3141\n",
      "Data columns (total 14 columns):\n",
      " #   Column         Non-Null Count  Dtype  \n",
      "---  ------         --------------  -----  \n",
      " 0   Provincia      3142 non-null   object \n",
      " 1   Partido        3142 non-null   object \n",
      " 2   Localidad      3142 non-null   object \n",
      " 3   Link Indec     3142 non-null   object \n",
      " 4   ADSL           3142 non-null   object \n",
      " 5   CABLEMODEM     3142 non-null   object \n",
      " 6   DIAL UP        3142 non-null   object \n",
      " 7   FIBRA OPTICA   3142 non-null   object \n",
      " 8   OTROS          3142 non-null   object \n",
      " 9   SATELITAL      3142 non-null   object \n",
      " 10  WIMAX          3142 non-null   object \n",
      " 11  WIRELESS       3142 non-null   object \n",
      " 12  Total general  3142 non-null   object \n",
      " 13  Unnamed: 13    0 non-null      float64\n",
      "dtypes: float64(1), object(13)\n",
      "memory usage: 343.8+ KB\n"
     ]
    }
   ],
   "source": [
    "internet_fijo_tecnologia_loc.info()"
   ]
  },
  {
   "cell_type": "markdown",
   "metadata": {},
   "source": [
    "### Eliminamos columna"
   ]
  },
  {
   "cell_type": "code",
   "execution_count": 12,
   "metadata": {},
   "outputs": [],
   "source": [
    "#Eliminamos la columna Unnamed: 13, no posee título ni información\n",
    "internet_fijo_tecnologia_loc.drop(columns= [\"Unnamed: 13\"],inplace=True)"
   ]
  },
  {
   "cell_type": "markdown",
   "metadata": {},
   "source": [
    "### Normalizamos columnas"
   ]
  },
  {
   "cell_type": "code",
   "execution_count": 13,
   "metadata": {},
   "outputs": [],
   "source": [
    "# Convertimos las columnas en string y reemplazamos el punto por \"\" \n",
    "internet_fijo_tecnologia_loc['ADSL'] = internet_fijo_tecnologia_loc['ADSL'].astype('string')\n",
    "internet_fijo_tecnologia_loc['CABLEMODEM'] = internet_fijo_tecnologia_loc['CABLEMODEM'].astype('string')\n",
    "internet_fijo_tecnologia_loc['DIAL UP'] = internet_fijo_tecnologia_loc['DIAL UP'].astype('string')\n",
    "internet_fijo_tecnologia_loc['FIBRA OPTICA'] = internet_fijo_tecnologia_loc['FIBRA OPTICA'].astype('string')\n",
    "internet_fijo_tecnologia_loc['OTROS'] = internet_fijo_tecnologia_loc['OTROS'].astype('string')\n",
    "internet_fijo_tecnologia_loc['WIMAX'] = internet_fijo_tecnologia_loc['WIMAX'].astype('string')\n",
    "internet_fijo_tecnologia_loc['WIRELESS'] = internet_fijo_tecnologia_loc['WIRELESS'].astype('string')\n",
    "\n",
    "\n",
    "internet_fijo_tecnologia_loc['ADSL'] = internet_fijo_tecnologia_loc['ADSL'].str.replace('.', '')\n",
    "internet_fijo_tecnologia_loc['CABLEMODEM'] = internet_fijo_tecnologia_loc['CABLEMODEM'].str.replace('.', '')\n",
    "internet_fijo_tecnologia_loc['DIAL UP'] = internet_fijo_tecnologia_loc['DIAL UP'].str.replace('.', '')\n",
    "internet_fijo_tecnologia_loc['FIBRA OPTICA'] = internet_fijo_tecnologia_loc['FIBRA OPTICA'].str.replace('.', '')\n",
    "internet_fijo_tecnologia_loc['OTROS'] = internet_fijo_tecnologia_loc['OTROS'].str.replace('.', '')\n",
    "internet_fijo_tecnologia_loc['WIMAX'] = internet_fijo_tecnologia_loc['WIMAX'].str.replace('.', '')\n",
    "internet_fijo_tecnologia_loc['WIRELESS'] = internet_fijo_tecnologia_loc['WIRELESS'].str.replace('.', '')\n"
   ]
  },
  {
   "cell_type": "code",
   "execution_count": 14,
   "metadata": {},
   "outputs": [],
   "source": [
    "# reemplazamos de el valor -0 de las columnas ADSL,Cablemodem,Fibra óptica,Wireless y Otros por 0\n",
    "internet_fijo_tecnologia_loc.loc[internet_fijo_tecnologia_loc['ADSL'] == '- 0', 'ADSL'] = '0'\n",
    "internet_fijo_tecnologia_loc.loc[internet_fijo_tecnologia_loc['CABLEMODEM'] == '- 0', 'CABLEMODEM'] = '0'\n",
    "internet_fijo_tecnologia_loc.loc[internet_fijo_tecnologia_loc['DIAL UP'] == '- 0', 'DIAL UP'] = '0'\n",
    "internet_fijo_tecnologia_loc.loc[internet_fijo_tecnologia_loc['FIBRA OPTICA'] == '- 0', 'FIBRA OPTICA'] = '0'\n",
    "internet_fijo_tecnologia_loc.loc[internet_fijo_tecnologia_loc['OTROS'] == '- 0', 'OTROS'] = '0'\n",
    "internet_fijo_tecnologia_loc.loc[internet_fijo_tecnologia_loc['SATELITAL'] == '- 0', 'SATELITAL'] = '0'\n",
    "internet_fijo_tecnologia_loc.loc[internet_fijo_tecnologia_loc['WIMAX'] == '- 0', 'WIMAX'] = '0'\n",
    "internet_fijo_tecnologia_loc.loc[internet_fijo_tecnologia_loc['WIRELESS'] == '- 0', 'WIRELESS'] = '0'"
   ]
  },
  {
   "cell_type": "code",
   "execution_count": 15,
   "metadata": {},
   "outputs": [],
   "source": [
    "# convertimos las columnas  ADSL,Cablemodem,Fibra óptica,Wireless y Otros en tipo int\n",
    "internet_fijo_tecnologia_loc['ADSL'] = internet_fijo_tecnologia_loc['ADSL'].astype('int')\n",
    "internet_fijo_tecnologia_loc['CABLEMODEM'] = internet_fijo_tecnologia_loc['CABLEMODEM'].astype('int')\n",
    "internet_fijo_tecnologia_loc['DIAL UP'] = internet_fijo_tecnologia_loc['DIAL UP'].astype('int')\n",
    "internet_fijo_tecnologia_loc['FIBRA OPTICA'] = internet_fijo_tecnologia_loc['FIBRA OPTICA'].astype('int')\n",
    "internet_fijo_tecnologia_loc['OTROS'] = internet_fijo_tecnologia_loc['OTROS'].astype('int')\n",
    "internet_fijo_tecnologia_loc['WIMAX'] = internet_fijo_tecnologia_loc['WIMAX'].astype('int')\n",
    "internet_fijo_tecnologia_loc['WIRELESS'] = internet_fijo_tecnologia_loc['WIRELESS'].astype('int')"
   ]
  },
  {
   "cell_type": "code",
   "execution_count": 16,
   "metadata": {},
   "outputs": [
    {
     "data": {
      "text/html": [
       "<div>\n",
       "<style scoped>\n",
       "    .dataframe tbody tr th:only-of-type {\n",
       "        vertical-align: middle;\n",
       "    }\n",
       "\n",
       "    .dataframe tbody tr th {\n",
       "        vertical-align: top;\n",
       "    }\n",
       "\n",
       "    .dataframe thead th {\n",
       "        text-align: right;\n",
       "    }\n",
       "</style>\n",
       "<table border=\"1\" class=\"dataframe\">\n",
       "  <thead>\n",
       "    <tr style=\"text-align: right;\">\n",
       "      <th></th>\n",
       "      <th>Provincia</th>\n",
       "      <th>Partido</th>\n",
       "      <th>Localidad</th>\n",
       "      <th>Link Indec</th>\n",
       "      <th>ADSL</th>\n",
       "      <th>CABLEMODEM</th>\n",
       "      <th>DIAL UP</th>\n",
       "      <th>FIBRA OPTICA</th>\n",
       "      <th>OTROS</th>\n",
       "      <th>SATELITAL</th>\n",
       "      <th>WIMAX</th>\n",
       "      <th>WIRELESS</th>\n",
       "      <th>Total general</th>\n",
       "    </tr>\n",
       "  </thead>\n",
       "  <tbody>\n",
       "    <tr>\n",
       "      <th>0</th>\n",
       "      <td>BUENOS AIRES</td>\n",
       "      <td>25 de Mayo</td>\n",
       "      <td>25 de Mayo</td>\n",
       "      <td>6854100</td>\n",
       "      <td>873</td>\n",
       "      <td>4704</td>\n",
       "      <td>0</td>\n",
       "      <td>2</td>\n",
       "      <td>0</td>\n",
       "      <td>975</td>\n",
       "      <td>0</td>\n",
       "      <td>664</td>\n",
       "      <td>7.218</td>\n",
       "    </tr>\n",
       "    <tr>\n",
       "      <th>1</th>\n",
       "      <td>BUENOS AIRES</td>\n",
       "      <td>25 de Mayo</td>\n",
       "      <td>Del Valle</td>\n",
       "      <td>6854020</td>\n",
       "      <td>181</td>\n",
       "      <td>0</td>\n",
       "      <td>0</td>\n",
       "      <td>0</td>\n",
       "      <td>10</td>\n",
       "      <td>1</td>\n",
       "      <td>0</td>\n",
       "      <td>0</td>\n",
       "      <td>192</td>\n",
       "    </tr>\n",
       "    <tr>\n",
       "      <th>2</th>\n",
       "      <td>BUENOS AIRES</td>\n",
       "      <td>25 de Mayo</td>\n",
       "      <td>Gobernador Ugarte</td>\n",
       "      <td>6854040</td>\n",
       "      <td>0</td>\n",
       "      <td>0</td>\n",
       "      <td>0</td>\n",
       "      <td>0</td>\n",
       "      <td>0</td>\n",
       "      <td>0</td>\n",
       "      <td>0</td>\n",
       "      <td>181</td>\n",
       "      <td>181</td>\n",
       "    </tr>\n",
       "    <tr>\n",
       "      <th>3</th>\n",
       "      <td>BUENOS AIRES</td>\n",
       "      <td>25 de Mayo</td>\n",
       "      <td>Norberto de la Riestra</td>\n",
       "      <td>6854060</td>\n",
       "      <td>0</td>\n",
       "      <td>782</td>\n",
       "      <td>0</td>\n",
       "      <td>6</td>\n",
       "      <td>167</td>\n",
       "      <td>0</td>\n",
       "      <td>0</td>\n",
       "      <td>327</td>\n",
       "      <td>1.282</td>\n",
       "    </tr>\n",
       "    <tr>\n",
       "      <th>4</th>\n",
       "      <td>BUENOS AIRES</td>\n",
       "      <td>25 de Mayo</td>\n",
       "      <td>Lucas Monteverde</td>\n",
       "      <td>6854050</td>\n",
       "      <td>0</td>\n",
       "      <td>0</td>\n",
       "      <td>0</td>\n",
       "      <td>0</td>\n",
       "      <td>0</td>\n",
       "      <td>0</td>\n",
       "      <td>0</td>\n",
       "      <td>6</td>\n",
       "      <td>6</td>\n",
       "    </tr>\n",
       "  </tbody>\n",
       "</table>\n",
       "</div>"
      ],
      "text/plain": [
       "      Provincia     Partido               Localidad Link Indec  ADSL  \\\n",
       "0  BUENOS AIRES  25 de Mayo              25 de Mayo    6854100   873   \n",
       "1  BUENOS AIRES  25 de Mayo               Del Valle    6854020   181   \n",
       "2  BUENOS AIRES  25 de Mayo       Gobernador Ugarte    6854040     0   \n",
       "3  BUENOS AIRES  25 de Mayo  Norberto de la Riestra    6854060     0   \n",
       "4  BUENOS AIRES  25 de Mayo        Lucas Monteverde    6854050     0   \n",
       "\n",
       "   CABLEMODEM  DIAL UP  FIBRA OPTICA  OTROS SATELITAL  WIMAX  WIRELESS  \\\n",
       "0        4704        0             2      0       975      0       664   \n",
       "1           0        0             0     10         1      0         0   \n",
       "2           0        0             0      0         0      0       181   \n",
       "3         782        0             6    167         0      0       327   \n",
       "4           0        0             0      0         0      0         6   \n",
       "\n",
       "  Total general  \n",
       "0         7.218  \n",
       "1           192  \n",
       "2           181  \n",
       "3         1.282  \n",
       "4             6  "
      ]
     },
     "execution_count": 16,
     "metadata": {},
     "output_type": "execute_result"
    }
   ],
   "source": [
    "internet_fijo_tecnologia_loc.head()"
   ]
  },
  {
   "cell_type": "markdown",
   "metadata": {},
   "source": [
    "### Guardamos los cambios en un archivo csv"
   ]
  },
  {
   "cell_type": "code",
   "execution_count": 17,
   "metadata": {},
   "outputs": [],
   "source": [
    "internet_fijo_tecnologia_loc.to_csv('Datasets_normalizados/AccesosaInternetfijoportecnologiaylocalidad_2791751690319387778.csv',index=False)"
   ]
  }
 ],
 "metadata": {
  "kernelspec": {
   "display_name": "env",
   "language": "python",
   "name": "python3"
  },
  "language_info": {
   "codemirror_mode": {
    "name": "ipython",
    "version": 3
   },
   "file_extension": ".py",
   "mimetype": "text/x-python",
   "name": "python",
   "nbconvert_exporter": "python",
   "pygments_lexer": "ipython3",
   "version": "3.10.6"
  },
  "orig_nbformat": 4
 },
 "nbformat": 4,
 "nbformat_minor": 2
}
